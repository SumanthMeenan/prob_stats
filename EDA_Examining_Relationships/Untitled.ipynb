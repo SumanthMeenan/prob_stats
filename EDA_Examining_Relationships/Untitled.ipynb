{
 "cells": [
  {
   "cell_type": "code",
   "execution_count": 4,
   "metadata": {
    "ExecuteTime": {
     "end_time": "2018-07-27T18:10:21.574109Z",
     "start_time": "2018-07-27T18:10:20.586048Z"
    }
   },
   "outputs": [],
   "source": [
    "import pandas as pd\n",
    "import numpy as np\n",
    "\n",
    "import matplotlib.pyplot as plt"
   ]
  },
  {
   "cell_type": "markdown",
   "metadata": {},
   "source": [
    "# Theory\n",
    "\n",
    " - Based on the type of relationship we want to setup, we have different tools.\n",
    " - C means Categorical, Q means Quantitative, C --> Q means we cant to know about Q from C.\n",
    " <table>\n",
    "  <tr>\n",
    "      <th> RelationShip </th>\n",
    "      <th> Tool </th>\n",
    "  </tr>\n",
    "  <tr>\n",
    "      <td> C --> C </td>\n",
    "      <td> Contigency table, descriptive statistics</td>\n",
    "  </tr>\n",
    "  <tr>\n",
    "      <td> C --> Q </td>\n",
    "      <td> Box plots, histograms, five number summary</td>\n",
    "  </tr>\n",
    "  <tr>\n",
    "      <td> Q --> C </td>\n",
    "      <td> </td>\n",
    "  </tr>\n",
    "  <tr>\n",
    "      <td> Q --> Q </td>\n",
    "      <td> Scatter plot, correlation</td>\n",
    "  </tr>\n",
    "</table>"
   ]
  },
  {
   "cell_type": "markdown",
   "metadata": {
    "heading_collapsed": true
   },
   "source": [
    "## Contigency table ( C --> C)"
   ]
  },
  {
   "cell_type": "markdown",
   "metadata": {
    "hidden": true
   },
   "source": [
    "In this activity, we will use the collected data to:\n",
    "\n",
    " - learn how to build a two-way table and compute conditional percentages.\n",
    " - interpret the data in terms of the relationship between a young child's nighttime exposure to light and later nearsightedness."
   ]
  },
  {
   "cell_type": "code",
   "execution_count": 4,
   "metadata": {
    "ExecuteTime": {
     "end_time": "2018-07-26T10:38:15.930038Z",
     "start_time": "2018-07-26T10:38:15.893192Z"
    },
    "hidden": true
   },
   "outputs": [
    {
     "data": {
      "text/html": [
       "<div>\n",
       "<style scoped>\n",
       "    .dataframe tbody tr th:only-of-type {\n",
       "        vertical-align: middle;\n",
       "    }\n",
       "\n",
       "    .dataframe tbody tr th {\n",
       "        vertical-align: top;\n",
       "    }\n",
       "\n",
       "    .dataframe thead th {\n",
       "        text-align: right;\n",
       "    }\n",
       "</style>\n",
       "<table border=\"1\" class=\"dataframe\">\n",
       "  <thead>\n",
       "    <tr style=\"text-align: right;\">\n",
       "      <th></th>\n",
       "      <th>Light</th>\n",
       "      <th>Nearsightedness</th>\n",
       "    </tr>\n",
       "  </thead>\n",
       "  <tbody>\n",
       "    <tr>\n",
       "      <th>0</th>\n",
       "      <td>no light</td>\n",
       "      <td>No</td>\n",
       "    </tr>\n",
       "    <tr>\n",
       "      <th>1</th>\n",
       "      <td>night light</td>\n",
       "      <td>No</td>\n",
       "    </tr>\n",
       "  </tbody>\n",
       "</table>\n",
       "</div>"
      ],
      "text/plain": [
       "         Light Nearsightedness\n",
       "0     no light              No\n",
       "1  night light              No"
      ]
     },
     "execution_count": 4,
     "metadata": {},
     "output_type": "execute_result"
    }
   ],
   "source": [
    "df = pd.read_excel('./nightlight.xls')\n",
    "df.head(2)"
   ]
  },
  {
   "cell_type": "code",
   "execution_count": 11,
   "metadata": {
    "ExecuteTime": {
     "end_time": "2018-07-26T10:49:54.474195Z",
     "start_time": "2018-07-26T10:49:54.437016Z"
    },
    "hidden": true
   },
   "outputs": [
    {
     "data": {
      "text/html": [
       "<div>\n",
       "<style scoped>\n",
       "    .dataframe tbody tr th:only-of-type {\n",
       "        vertical-align: middle;\n",
       "    }\n",
       "\n",
       "    .dataframe tbody tr th {\n",
       "        vertical-align: top;\n",
       "    }\n",
       "\n",
       "    .dataframe thead th {\n",
       "        text-align: right;\n",
       "    }\n",
       "</style>\n",
       "<table border=\"1\" class=\"dataframe\">\n",
       "  <thead>\n",
       "    <tr style=\"text-align: right;\">\n",
       "      <th>Nearsightedness</th>\n",
       "      <th>No</th>\n",
       "      <th>Yes</th>\n",
       "    </tr>\n",
       "    <tr>\n",
       "      <th>Light</th>\n",
       "      <th></th>\n",
       "      <th></th>\n",
       "    </tr>\n",
       "  </thead>\n",
       "  <tbody>\n",
       "    <tr>\n",
       "      <th>lamp</th>\n",
       "      <td>0.453333</td>\n",
       "      <td>0.546667</td>\n",
       "    </tr>\n",
       "    <tr>\n",
       "      <th>night light</th>\n",
       "      <td>0.659483</td>\n",
       "      <td>0.340517</td>\n",
       "    </tr>\n",
       "    <tr>\n",
       "      <th>no light</th>\n",
       "      <td>0.901163</td>\n",
       "      <td>0.098837</td>\n",
       "    </tr>\n",
       "  </tbody>\n",
       "</table>\n",
       "</div>"
      ],
      "text/plain": [
       "Nearsightedness        No       Yes\n",
       "Light                              \n",
       "lamp             0.453333  0.546667\n",
       "night light      0.659483  0.340517\n",
       "no light         0.901163  0.098837"
      ]
     },
     "execution_count": 11,
     "metadata": {},
     "output_type": "execute_result"
    }
   ],
   "source": [
    "pd.crosstab(df['Light'], df['Nearsightedness'], rownames=['Light'], colnames=['Nearsightedness'], normalize='index')\n"
   ]
  },
  {
   "cell_type": "markdown",
   "metadata": {
    "hidden": true
   },
   "source": [
    " - Kids with no exposure to light in their early days were safe.\n",
    " - Most of the kids with exposure towards the lamp suffered from Near Sighted ness."
   ]
  },
  {
   "cell_type": "markdown",
   "metadata": {},
   "source": [
    "## Scatter plot (Q --> Q)\n",
    "What to observer in order to describe overall pattern:\n",
    " - direction - ex whether increase in x increases y or not. This suggest function will be an increasing or decreasing function.\n",
    " - form - to get some sense whether a function will be monotonically or exponentially increasing, we need to figure out `what sort of function it is`, whether its `linear`, or `logarithmic`.\n",
    " - strenth - now, idea is to check `how much observations are varying from function`.\n",
    " \n",
    " - outliers - observations showing exceptional behavior should be marked.\n",
    " "
   ]
  },
  {
   "cell_type": "code",
   "execution_count": 31,
   "metadata": {
    "ExecuteTime": {
     "end_time": "2018-07-27T18:22:48.766054Z",
     "start_time": "2018-07-27T18:22:48.703249Z"
    }
   },
   "outputs": [
    {
     "data": {
      "text/html": [
       "<div>\n",
       "<style scoped>\n",
       "    .dataframe tbody tr th:only-of-type {\n",
       "        vertical-align: middle;\n",
       "    }\n",
       "\n",
       "    .dataframe tbody tr th {\n",
       "        vertical-align: top;\n",
       "    }\n",
       "\n",
       "    .dataframe thead th {\n",
       "        text-align: right;\n",
       "    }\n",
       "</style>\n",
       "<table border=\"1\" class=\"dataframe\">\n",
       "  <thead>\n",
       "    <tr style=\"text-align: right;\">\n",
       "      <th></th>\n",
       "      <th>gender</th>\n",
       "      <th>height</th>\n",
       "      <th>weight</th>\n",
       "    </tr>\n",
       "  </thead>\n",
       "  <tbody>\n",
       "    <tr>\n",
       "      <th>0</th>\n",
       "      <td>0</td>\n",
       "      <td>72</td>\n",
       "      <td>155</td>\n",
       "    </tr>\n",
       "    <tr>\n",
       "      <th>1</th>\n",
       "      <td>0</td>\n",
       "      <td>67</td>\n",
       "      <td>145</td>\n",
       "    </tr>\n",
       "  </tbody>\n",
       "</table>\n",
       "</div>"
      ],
      "text/plain": [
       "   gender  height  weight\n",
       "0       0      72     155\n",
       "1       0      67     145"
      ]
     },
     "execution_count": 31,
     "metadata": {},
     "output_type": "execute_result"
    }
   ],
   "source": [
    "student_df = pd.read_excel('./height.xls')\n",
    "student_df.head(2)"
   ]
  },
  {
   "cell_type": "code",
   "execution_count": 46,
   "metadata": {
    "ExecuteTime": {
     "end_time": "2018-07-26T14:33:13.141092Z",
     "start_time": "2018-07-26T14:33:12.971948Z"
    }
   },
   "outputs": [
    {
     "data": {
      "image/png": "[encoded data removed]",
      "text/plain": [
       "<Figure size 432x288 with 1 Axes>"
      ]
     },
     "metadata": {},
     "output_type": "display_data"
    }
   ],
   "source": [
    "c = student_df['gender'].map(lambda x: 'red' if x == 0 else 'blue')\n",
    "plt.scatter(student_df['height'], student_df['weight'], color=c)\n",
    "plt.plot([60, 75], [75, 230]) # estimated function - just manually drawn \n",
    "plt.xlabel('height')\n",
    "plt.ylabel('weight')\n",
    "plt.show()"
   ]
  },
  {
   "cell_type": "markdown",
   "metadata": {},
   "source": [
    "**Interpretation**\n",
    "- direction - height and weight seems to be positively related.\n",
    "     - for boys - growth is more speedy\n",
    "     - for girls - growth is less speedy\n",
    "     \n",
    " - form - However for overall graph it seems to have polynomial curve\n",
    "     - If we split the data in 2 segment, then we can generate two linear line, which should work well.\n",
    " - strength - there seems significant deviation within each group.\n",
    " \n",
    " - outlier - observation ~(53, 124) seems to a potential outlier."
   ]
  },
  {
   "cell_type": "markdown",
   "metadata": {},
   "source": [
    "### Co-relation\n",
    "\n",
    " - Corelation tells the strength. Correlation coefficient r is given as:\n",
    "\n",
    "r = ${1 \\over n-1}$$\\sum_{i=1}^{n} {(x_i - \\mu_x)\\over S_x}{(y_i - \\mu_y)\\over S_y}$\n",
    "\n",
    " - **Note**: Correlation is only applicable to linear relationships.\n",
    " - Correlation ranges from -1 to 1.\n",
    " - Correlation = 0, means, points are totally scatter. They don't have any relationship.\n",
    " - High corelation value, doesn't ensure its a linear model."
   ]
  },
  {
   "cell_type": "markdown",
   "metadata": {
    "heading_collapsed": true
   },
   "source": [
    "#### Negative linear relationship as negative corelation."
   ]
  },
  {
   "cell_type": "code",
   "execution_count": 76,
   "metadata": {
    "ExecuteTime": {
     "end_time": "2018-07-27T18:50:22.430106Z",
     "start_time": "2018-07-27T18:50:22.280960Z"
    },
    "hidden": true
   },
   "outputs": [
    {
     "data": {
      "image/png": "[encoded data removed]",
      "text/plain": [
       "<Figure size 432x288 with 1 Axes>"
      ]
     },
     "metadata": {},
     "output_type": "display_data"
    }
   ],
   "source": [
    "female_student = student_df[student_df['gender'] == 1]\n",
    "# c = student_df['gender'].map(lambda x: 'red' if x == 0 else 'blue')\n",
    "translated_weight = -female_student['weight'] + 180 # to depict negative relationship\n",
    "corr = np.corrcoef(translated_weight, female_student['height'] )[0, 1]\n",
    "\n",
    "plt.scatter(female_student['height'], translated_weight)\n",
    "plt.text(female_student['height'].iloc[5], np.max(translated_weight), 'r = {0:.2f}'.format(corr), fontsize=15)\n",
    "plt.xlabel('height')\n",
    "plt.ylabel('weight')\n",
    "plt.show()\n",
    "\n"
   ]
  },
  {
   "cell_type": "markdown",
   "metadata": {
    "heading_collapsed": true
   },
   "source": [
    "#### Positive linear relationship has positive corelation. "
   ]
  },
  {
   "cell_type": "code",
   "execution_count": 77,
   "metadata": {
    "ExecuteTime": {
     "end_time": "2018-07-27T18:50:25.696876Z",
     "start_time": "2018-07-27T18:50:25.553702Z"
    },
    "hidden": true
   },
   "outputs": [
    {
     "data": {
      "image/png": "[encoded data removed]",
      "text/plain": [
       "<Figure size 432x288 with 1 Axes>"
      ]
     },
     "metadata": {},
     "output_type": "display_data"
    }
   ],
   "source": [
    "male_student = student_df[student_df['gender'] == 0]\n",
    "# c = student_df['gender'].map(lambda x: 'red' if x == 0 else 'blue')\n",
    "plt.scatter(male_student['height'], male_student['weight'])\n",
    "# plt.plot([60, 75], [75, 230]) # estimated function - just manually drawn \n",
    "plt.xlabel('height')\n",
    "plt.ylabel('weight')\n",
    "corr = np.corrcoef(male_student['height'], male_student['weight'])[0, 1]\n",
    "plt.text(male_student['height'].iloc[5], np.max(male_student['weight']), 'r = {0:.2f}'.format(corr), fontsize=15)\n",
    "\n",
    "plt.show()\n",
    "\n"
   ]
  },
  {
   "cell_type": "markdown",
   "metadata": {
    "heading_collapsed": true
   },
   "source": [
    "#### Corelation is meant for `linear` relationship only."
   ]
  },
  {
   "cell_type": "code",
   "execution_count": 78,
   "metadata": {
    "ExecuteTime": {
     "end_time": "2018-07-27T18:50:30.521990Z",
     "start_time": "2018-07-27T18:50:30.394830Z"
    },
    "hidden": true
   },
   "outputs": [
    {
     "data": {
      "image/png": "[encoded data removed]",
      "text/plain": [
       "<Figure size 432x288 with 1 Axes>"
      ]
     },
     "metadata": {},
     "output_type": "display_data"
    }
   ],
   "source": [
    "x = np.arange(0, 10)\n",
    "y = x**2 +100 - 8*x\n",
    "plt.scatter(x, y)\n",
    "corr = np.corrcoef(x, y)[0, 1]\n",
    "plt.text(x[5], np.max(y), 'r = {0:.2f}'.format(corr), fontsize=15)\n",
    "plt.show()"
   ]
  },
  {
   "cell_type": "markdown",
   "metadata": {},
   "source": [
    "#### Effect of outlier on corelation"
   ]
  },
  {
   "cell_type": "code",
   "execution_count": 130,
   "metadata": {
    "ExecuteTime": {
     "end_time": "2018-07-29T07:42:06.518108Z",
     "start_time": "2018-07-29T07:42:06.034162Z"
    }
   },
   "outputs": [
    {
     "data": {
      "image/png": "[encoded data removed]",
      "text/plain": [
       "<Figure size 1008x576 with 3 Axes>"
      ]
     },
     "metadata": {},
     "output_type": "display_data"
    }
   ],
   "source": [
    "an_stat = pd.read_csv('./gestation_longetivity.csv', delimiter='\\t')\n",
    "an_stat['color'] = 'blue'\n",
    "an_stat.loc[an_stat['Animal'] == 'Hippopotamus', 'color'] = 'red'\n",
    "an_stat.loc[an_stat['Animal'] == 'Elephant', 'color'] = 'green'\n",
    "\n",
    "plt.figure(figsize=(14, 8))\n",
    "\n",
    "plt.subplot(331)\n",
    "gest_days = an_stat['gestation']\n",
    "long_days = an_stat['l_days']\n",
    "c1 = an_stat['color']\n",
    "corr1 = np.corrcoef(gest_days, long_days)[0, 1]\n",
    "plt.title('Actual correlation')\n",
    "plt.text(gest_days.iloc[5], np.max(long_days), 'r = {0:.2f}'.format(corr1), fontsize=15)\n",
    "plt.scatter(gest_days, long_days, color = c1)\n",
    "\n",
    "plt.subplot(332)\n",
    "an_stat_wo_outlier = an_stat[an_stat['gestation'] < 500]\n",
    "c2 = an_stat_wo_outlier['color']\n",
    "gest_days_wo_out = an_stat_wo_outlier['gestation']\n",
    "long_days_wo_out = an_stat_wo_outlier['l_days']\n",
    "corr2 = np.corrcoef(gest_days_wo_out, long_days_wo_out)[0, 1]\n",
    "plt.title('removing rightmost outlier, decreases the corelation')\n",
    "plt.text(gest_days_wo_out.iloc[5], np.max(long_days_wo_out), 'r = {0:.2f}'.format(corr2), fontsize=15)\n",
    "plt.scatter(gest_days_wo_out, long_days_wo_out, color=c2)\n",
    "\n",
    "\n",
    "plt.subplot(333)\n",
    "an_stat_wo_outlier_1 = an_stat[(an_stat['l_days'] < 14965) ]\n",
    "c3 = an_stat_wo_outlier_1['color']\n",
    "\n",
    "gest_days_wo_out_1 = an_stat_wo_outlier_1['gestation']\n",
    "long_days_wo_out_1 = an_stat_wo_outlier_1['l_days']\n",
    "corr3 = np.corrcoef(gest_days_wo_out_1, long_days_wo_out_1)[0, 1]\n",
    "plt.title('Remove top most (200, 15000) increase correlation')\n",
    "plt.text(gest_days_wo_out_1.iloc[5], np.max(long_days_wo_out_1), 'r = {0:.2f}'.format(corr3), fontsize=15)\n",
    "plt.scatter(gest_days_wo_out_1, long_days_wo_out_1, color=c3)\n",
    "\n",
    "plt.tight_layout()\n",
    "plt.show()"
   ]
  },
  {
   "cell_type": "markdown",
   "metadata": {},
   "source": [
    " - figure 2, on removing green point, reduces the corelation because \n",
    "     - despite green point was outlier, but it was following the pattern. Therefore it was adding significant information to the pattern. So on reducing it, we lost bit of information and reduce corelation\n",
    " - figure 3, on removing red point, increases the corelation because,\n",
    "     - red point was sort of out of the league, and it was not adding much information to the pattern. So, it was outlier in real sense.\n",
    "     \n",
    " - **Bottom Line**\n",
    "     - We need to read the impact of \"out of the league\" point, befor marking/treating them as outlier."
   ]
  }
 ],
 "metadata": {
  "kernelspec": {
   "display_name": "Python 3",
   "language": "python",
   "name": "python3"
  },
  "language_info": {
   "codemirror_mode": {
    "name": "ipython",
    "version": 3
   },
   "file_extension": ".py",
   "mimetype": "text/x-python",
   "name": "python",
   "nbconvert_exporter": "python",
   "pygments_lexer": "ipython3",
   "version": "3.6.6"
  },
  "varInspector": {
   "cols": {
    "lenName": 16,
    "lenType": 16,
    "lenVar": 40
   },
   "kernels_config": {
    "python": {
     "delete_cmd_postfix": "",
     "delete_cmd_prefix": "del ",
     "library": "var_list.py",
     "varRefreshCmd": "print(var_dic_list())"
    },
    "r": {
     "delete_cmd_postfix": ") ",
     "delete_cmd_prefix": "rm(",
     "library": "var_list.r",
     "varRefreshCmd": "cat(var_dic_list()) "
    }
   },
   "types_to_exclude": [
    "module",
    "function",
    "builtin_function_or_method",
    "instance",
    "_Feature"
   ],
   "window_display": false
  }
 },
 "nbformat": 4,
 "nbformat_minor": 2
}
