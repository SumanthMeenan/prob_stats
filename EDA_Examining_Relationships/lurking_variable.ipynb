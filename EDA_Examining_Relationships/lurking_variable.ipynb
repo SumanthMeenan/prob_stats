{
 "cells": [
  {
   "cell_type": "markdown",
   "metadata": {},
   "source": [
    "# Body Image and Academic Performance of College Students"
   ]
  },
  {
   "cell_type": "code",
   "execution_count": 19,
   "metadata": {
    "ExecuteTime": {
     "end_time": "2018-08-01T17:47:04.767488Z",
     "start_time": "2018-08-01T17:47:04.763014Z"
    }
   },
   "outputs": [],
   "source": [
    "import pandas as pd\n",
    "import numpy as np\n",
    "import statsmodels.api as sm\n",
    "\n",
    "import matplotlib.pyplot as plt"
   ]
  },
  {
   "cell_type": "markdown",
   "metadata": {},
   "source": [
    "## Idea\n",
    "\n",
    " - `Association` is not `Causation`.\n",
    "     - It is not necessary that explanatory variable always results in production of response variable. Explainatory variable may be associated in the process of production of response variable, but it is not necessary that it has caused the production of response variable.\n",
    "     - So, who else is contributing toward production of response variable. Answer is `lurking variable`. It is something we have not taken into account, but it holds significant importance in production process.\n",
    "     - How does it impact the production process? Answer is, `lurking variable` may have impact on either explainatory variable or/and response variable.\n"
   ]
  },
  {
   "cell_type": "code",
   "execution_count": 26,
   "metadata": {
    "ExecuteTime": {
     "end_time": "2018-08-01T17:47:28.147940Z",
     "start_time": "2018-08-01T17:47:28.106775Z"
    }
   },
   "outputs": [
    {
     "data": {
      "text/html": [
       "<div>\n",
       "<style scoped>\n",
       "    .dataframe tbody tr th:only-of-type {\n",
       "        vertical-align: middle;\n",
       "    }\n",
       "\n",
       "    .dataframe tbody tr th {\n",
       "        vertical-align: top;\n",
       "    }\n",
       "\n",
       "    .dataframe thead th {\n",
       "        text-align: right;\n",
       "    }\n",
       "</style>\n",
       "<table border=\"1\" class=\"dataframe\">\n",
       "  <thead>\n",
       "    <tr style=\"text-align: right;\">\n",
       "      <th></th>\n",
       "      <th>Gender</th>\n",
       "      <th>Height</th>\n",
       "      <th>GPA</th>\n",
       "      <th>HS GPA</th>\n",
       "      <th>Seat</th>\n",
       "      <th>WtFeel</th>\n",
       "      <th>Cheat</th>\n",
       "    </tr>\n",
       "  </thead>\n",
       "  <tbody>\n",
       "    <tr>\n",
       "      <th>0</th>\n",
       "      <td>Female</td>\n",
       "      <td>64.0</td>\n",
       "      <td>2.6</td>\n",
       "      <td>2.63</td>\n",
       "      <td>M</td>\n",
       "      <td>AboutRt</td>\n",
       "      <td>No</td>\n",
       "    </tr>\n",
       "  </tbody>\n",
       "</table>\n",
       "</div>"
      ],
      "text/plain": [
       "   Gender  Height  GPA HS GPA Seat   WtFeel Cheat\n",
       "0  Female    64.0  2.6   2.63    M  AboutRt    No"
      ]
     },
     "execution_count": 26,
     "metadata": {},
     "output_type": "execute_result"
    }
   ],
   "source": [
    "df = pd.read_excel('./body_image.xls')\n",
    "df.head(1)"
   ]
  },
  {
   "cell_type": "code",
   "execution_count": 21,
   "metadata": {
    "ExecuteTime": {
     "end_time": "2018-08-01T17:47:04.843798Z",
     "start_time": "2018-08-01T17:47:04.830081Z"
    }
   },
   "outputs": [
    {
     "data": {
      "text/plain": [
       "Seat\n",
       "B    2\n",
       "F    4\n",
       "M    4\n",
       "dtype: int64"
      ]
     },
     "execution_count": 21,
     "metadata": {},
     "output_type": "execute_result"
    }
   ],
   "source": [
    "first_10 = df.head(10)\n",
    "first_10.groupby('Seat').size()"
   ]
  },
  {
   "cell_type": "code",
   "execution_count": 22,
   "metadata": {
    "ExecuteTime": {
     "end_time": "2018-08-01T17:47:04.867718Z",
     "start_time": "2018-08-01T17:47:04.847648Z"
    }
   },
   "outputs": [
    {
     "data": {
      "text/html": [
       "<div>\n",
       "<style scoped>\n",
       "    .dataframe tbody tr th:only-of-type {\n",
       "        vertical-align: middle;\n",
       "    }\n",
       "\n",
       "    .dataframe tbody tr th {\n",
       "        vertical-align: top;\n",
       "    }\n",
       "\n",
       "    .dataframe thead th {\n",
       "        text-align: right;\n",
       "    }\n",
       "</style>\n",
       "<table border=\"1\" class=\"dataframe\">\n",
       "  <thead>\n",
       "    <tr style=\"text-align: right;\">\n",
       "      <th></th>\n",
       "      <th>Gender</th>\n",
       "      <th>Height</th>\n",
       "      <th>GPA</th>\n",
       "      <th>HS GPA</th>\n",
       "      <th>Seat</th>\n",
       "      <th>WtFeel</th>\n",
       "      <th>Cheat</th>\n",
       "    </tr>\n",
       "  </thead>\n",
       "  <tbody>\n",
       "    <tr>\n",
       "      <th>3</th>\n",
       "      <td>Female</td>\n",
       "      <td>63.0</td>\n",
       "      <td>3.11</td>\n",
       "      <td>2.73</td>\n",
       "      <td>F</td>\n",
       "      <td>AboutRt</td>\n",
       "      <td>No</td>\n",
       "    </tr>\n",
       "    <tr>\n",
       "      <th>4</th>\n",
       "      <td>Male</td>\n",
       "      <td>72.0</td>\n",
       "      <td>3.4</td>\n",
       "      <td>2.35</td>\n",
       "      <td>B</td>\n",
       "      <td>OverWt</td>\n",
       "      <td>No</td>\n",
       "    </tr>\n",
       "    <tr>\n",
       "      <th>8</th>\n",
       "      <td>Male</td>\n",
       "      <td>72.0</td>\n",
       "      <td>3.77</td>\n",
       "      <td>3.09</td>\n",
       "      <td>M</td>\n",
       "      <td>UnderWt</td>\n",
       "      <td>No</td>\n",
       "    </tr>\n",
       "  </tbody>\n",
       "</table>\n",
       "</div>"
      ],
      "text/plain": [
       "   Gender  Height   GPA HS GPA Seat   WtFeel Cheat\n",
       "3  Female    63.0  3.11   2.73    F  AboutRt    No\n",
       "4    Male    72.0   3.4   2.35    B   OverWt    No\n",
       "8    Male    72.0  3.77   3.09    M  UnderWt    No"
      ]
     },
     "execution_count": 22,
     "metadata": {},
     "output_type": "execute_result"
    }
   ],
   "source": [
    "first_10[first_10['GPA'] > first_10['HS GPA']]"
   ]
  },
  {
   "cell_type": "code",
   "execution_count": 23,
   "metadata": {
    "ExecuteTime": {
     "end_time": "2018-08-01T17:47:04.895312Z",
     "start_time": "2018-08-01T17:47:04.871227Z"
    }
   },
   "outputs": [
    {
     "data": {
      "text/html": [
       "<div>\n",
       "<style scoped>\n",
       "    .dataframe tbody tr th:only-of-type {\n",
       "        vertical-align: middle;\n",
       "    }\n",
       "\n",
       "    .dataframe tbody tr th {\n",
       "        vertical-align: top;\n",
       "    }\n",
       "\n",
       "    .dataframe thead th {\n",
       "        text-align: right;\n",
       "    }\n",
       "</style>\n",
       "<table border=\"1\" class=\"dataframe\">\n",
       "  <thead>\n",
       "    <tr style=\"text-align: right;\">\n",
       "      <th></th>\n",
       "      <th>Gender</th>\n",
       "      <th>Height</th>\n",
       "      <th>GPA</th>\n",
       "      <th>HS GPA</th>\n",
       "      <th>Seat</th>\n",
       "      <th>WtFeel</th>\n",
       "      <th>Cheat</th>\n",
       "    </tr>\n",
       "  </thead>\n",
       "  <tbody>\n",
       "    <tr>\n",
       "      <th>8</th>\n",
       "      <td>Male</td>\n",
       "      <td>72.0</td>\n",
       "      <td>3.77</td>\n",
       "      <td>3.09</td>\n",
       "      <td>M</td>\n",
       "      <td>UnderWt</td>\n",
       "      <td>No</td>\n",
       "    </tr>\n",
       "  </tbody>\n",
       "</table>\n",
       "</div>"
      ],
      "text/plain": [
       "  Gender  Height   GPA HS GPA Seat   WtFeel Cheat\n",
       "8   Male    72.0  3.77   3.09    M  UnderWt    No"
      ]
     },
     "execution_count": 23,
     "metadata": {},
     "output_type": "execute_result"
    }
   ],
   "source": [
    "first_10.sort_values('GPA', ascending=False).head(1)"
   ]
  },
  {
   "cell_type": "markdown",
   "metadata": {
    "heading_collapsed": true
   },
   "source": [
    "## Is there a relationship between students' college GPAs and their high school GPAs?"
   ]
  },
  {
   "cell_type": "code",
   "execution_count": 24,
   "metadata": {
    "ExecuteTime": {
     "end_time": "2018-08-01T17:47:04.931559Z",
     "start_time": "2018-08-01T17:47:04.899062Z"
    },
    "hidden": true
   },
   "outputs": [
    {
     "ename": "NameError",
     "evalue": "name 'x_hs_gpa' is not defined",
     "output_type": "error",
     "traceback": [
      "\u001b[0;31m------------------------------------------------------------------\u001b[0m",
      "\u001b[0;31mNameError\u001b[0m                        Traceback (most recent call last)",
      "\u001b[0;32m<ipython-input-24-5839d278f7ec>\u001b[0m in \u001b[0;36m<module>\u001b[0;34m()\u001b[0m\n\u001b[1;32m      1\u001b[0m \u001b[0;31m# Q1. Is there a relationship between students' college GPAs and their high school GPAs?\u001b[0m\u001b[0;34m\u001b[0m\u001b[0;34m\u001b[0m\u001b[0m\n\u001b[1;32m      2\u001b[0m \u001b[0mvalid_gpas\u001b[0m \u001b[0;34m=\u001b[0m \u001b[0mdf\u001b[0m\u001b[0;34m[\u001b[0m\u001b[0;34m(\u001b[0m\u001b[0mdf\u001b[0m\u001b[0;34m[\u001b[0m\u001b[0;34m'GPA'\u001b[0m\u001b[0;34m]\u001b[0m \u001b[0;34m!=\u001b[0m \u001b[0;34m'*'\u001b[0m\u001b[0;34m)\u001b[0m \u001b[0;34m&\u001b[0m \u001b[0;34m(\u001b[0m\u001b[0mdf\u001b[0m\u001b[0;34m[\u001b[0m\u001b[0;34m'HS GPA'\u001b[0m\u001b[0;34m]\u001b[0m \u001b[0;34m!=\u001b[0m \u001b[0;34m'*'\u001b[0m\u001b[0;34m)\u001b[0m\u001b[0;34m]\u001b[0m\u001b[0;34m\u001b[0m\u001b[0m\n\u001b[0;32m----> 3\u001b[0;31m \u001b[0mr\u001b[0m \u001b[0;34m=\u001b[0m \u001b[0mnp\u001b[0m\u001b[0;34m.\u001b[0m\u001b[0mcorrcoef\u001b[0m\u001b[0;34m(\u001b[0m\u001b[0mx_hs_gpa\u001b[0m\u001b[0;34m,\u001b[0m \u001b[0my_gpa\u001b[0m\u001b[0;34m)\u001b[0m\u001b[0;34m[\u001b[0m\u001b[0;36m0\u001b[0m\u001b[0;34m]\u001b[0m\u001b[0;34m[\u001b[0m\u001b[0;36m1\u001b[0m\u001b[0;34m]\u001b[0m\u001b[0;34m\u001b[0m\u001b[0m\n\u001b[0m\u001b[1;32m      4\u001b[0m \u001b[0;34m\u001b[0m\u001b[0m\n\u001b[1;32m      5\u001b[0m \u001b[0mplt\u001b[0m\u001b[0;34m.\u001b[0m\u001b[0mscatter\u001b[0m\u001b[0;34m(\u001b[0m\u001b[0mvalid_gpas\u001b[0m\u001b[0;34m[\u001b[0m\u001b[0;34m'HS GPA'\u001b[0m\u001b[0;34m]\u001b[0m\u001b[0;34m,\u001b[0m \u001b[0mvalid_gpas\u001b[0m\u001b[0;34m[\u001b[0m\u001b[0;34m'GPA'\u001b[0m\u001b[0;34m]\u001b[0m\u001b[0;34m,\u001b[0m \u001b[0mcolor\u001b[0m\u001b[0;34m=\u001b[0m\u001b[0;34m'red'\u001b[0m\u001b[0;34m)\u001b[0m\u001b[0;34m\u001b[0m\u001b[0m\n",
      "\u001b[0;31mNameError\u001b[0m: name 'x_hs_gpa' is not defined"
     ]
    }
   ],
   "source": [
    "# Q1. Is there a relationship between students' college GPAs and their high school GPAs?\n",
    "valid_gpas = df[(df['GPA'] != '*') & (df['HS GPA'] != '*')]\n",
    "r = np.corrcoef(x_hs_gpa, y_gpa)[0][1]\n",
    "\n",
    "plt.scatter(valid_gpas['HS GPA'], valid_gpas['GPA'], color='red')\n",
    "plt.text(1.5, 4.0, 'r={}'.format(r), fontsize=12)\n",
    "plt.ylabel('GPA')\n",
    "plt.xlabel('HS GPA')\n",
    "plt.show()\n",
    "\n",
    "x_hs_gpa = valid_gpas['HS GPA'].apply(lambda x: float(x))\n",
    "y_gpa = valid_gpas['GPA'].apply(lambda x: float(x))\n"
   ]
  },
  {
   "cell_type": "markdown",
   "metadata": {
    "hidden": true
   },
   "source": [
    " - Relationship seems to be postive, linear, strong. Correlation is strong as well.\n",
    " - This suggest HS GPA is related to GPA."
   ]
  },
  {
   "cell_type": "code",
   "execution_count": null,
   "metadata": {
    "ExecuteTime": {
     "end_time": "2018-08-01T17:47:04.932832Z",
     "start_time": "2018-08-01T17:47:04.790Z"
    },
    "hidden": true
   },
   "outputs": [],
   "source": [
    "np.array(valid_gpas['HS GPA'])\n",
    "np.array(valid_gpas['GPA'])"
   ]
  },
  {
   "cell_type": "code",
   "execution_count": null,
   "metadata": {
    "ExecuteTime": {
     "end_time": "2018-08-01T17:47:04.934703Z",
     "start_time": "2018-08-01T17:47:04.793Z"
    },
    "hidden": true
   },
   "outputs": [],
   "source": [
    "x = np.array(valid_gpas['HS GPA'], dtype='float')\n",
    "y = np.array(valid_gpas['GPA'], dtype='float')\n",
    "x = sm.add_constant(x)\n",
    "lm = sm.OLS(y, x)\n",
    "res = lm.fit()\n",
    "res.summary()"
   ]
  },
  {
   "cell_type": "markdown",
   "metadata": {
    "heading_collapsed": true
   },
   "source": [
    "## Are there differences between males and females with respect to body image?"
   ]
  },
  {
   "cell_type": "code",
   "execution_count": null,
   "metadata": {
    "ExecuteTime": {
     "end_time": "2018-08-01T17:47:04.936948Z",
     "start_time": "2018-08-01T17:47:04.796Z"
    },
    "code_folding": [],
    "hidden": true
   },
   "outputs": [],
   "source": [
    "WtFeel_Enums = { 'AboutRt': 1, 'OverWt': 2, 'UnderWt': 3};\n",
    "Gender_Enums = { 'Male': 1, 'Female': 2 }\n",
    "\n",
    "def draw_hist(df_to_consider):\n",
    "    fig, axs = plt.subplots(1, 2, tight_layout=True)\n",
    "    fig.set_figheight(3)\n",
    "    gender = df_to_consider['Gender'].apply(lambda x: Gender_Enums[x])\n",
    "    WtFeel = df_to_consider['WtFeel'].apply(lambda x: WtFeel_Enums[x])\n",
    "\n",
    "    axs[0].hist(gender, bins=2, rwidth=0.8)\n",
    "    axs[0].set_xlabel('Gender')\n",
    "    axs[0].set_ylabel('Frequency')\n",
    "\n",
    "    axs[1].hist(WtFeel, bins=3, rwidth=0.8)\n",
    "    axs[1].set_xlabel('WtFeel')\n",
    "    axs[1].set_ylabel('Frequency')\n",
    "    return plt\n",
    "\n",
    "draw_hist(df[df['WtFeel'].isnull() == False]).show()\n",
    "\n",
    "pd.crosstab(df['Gender'], \n",
    "            df['WtFeel'], \n",
    "            rownames=['Gender'], \n",
    "            colnames=['WtFeel'], \n",
    "            normalize='index')"
   ]
  },
  {
   "cell_type": "markdown",
   "metadata": {
    "hidden": true
   },
   "source": [
    "**Observation**\n",
    " - Most of the `Female` and `Male` seems to be satisfied with their body image.\n",
    " - Among concerned people, major chunk is `males`, about `33 %`.\n",
    " = Much of the `Females are concerned about being overweight`, however, many `males are concerned about being underweight`.\n",
    " "
   ]
  },
  {
   "cell_type": "markdown",
   "metadata": {},
   "source": [
    "## Is students' academic performance in college related to their typical seating location in class?"
   ]
  },
  {
   "cell_type": "code",
   "execution_count": null,
   "metadata": {
    "ExecuteTime": {
     "end_time": "2018-08-01T17:47:04.939154Z",
     "start_time": "2018-08-01T17:47:04.800Z"
    }
   },
   "outputs": [],
   "source": [
    "df.head(2)"
   ]
  },
  {
   "cell_type": "code",
   "execution_count": null,
   "metadata": {
    "ExecuteTime": {
     "end_time": "2018-08-01T17:47:04.941607Z",
     "start_time": "2018-08-01T17:47:04.804Z"
    }
   },
   "outputs": [],
   "source": [
    "df['Seat'].unique()"
   ]
  },
  {
   "cell_type": "code",
   "execution_count": 36,
   "metadata": {
    "ExecuteTime": {
     "end_time": "2018-08-01T17:50:24.041464Z",
     "start_time": "2018-08-01T17:50:23.546875Z"
    }
   },
   "outputs": [
    {
     "name": "stderr",
     "output_type": "stream",
     "text": [
      "/Users/ttn/anaconda/lib/python3.6/site-packages/matplotlib/figure.py:2267: UserWarning: This figure includes Axes that are not compatible with tight_layout, so results might be incorrect.\n",
      "  warnings.warn(\"This figure includes Axes that are not compatible \"\n"
     ]
    },
    {
     "data": {
      "image/png": "[encoded data removed]",
      "text/plain": [
       "<Figure size 864x288 with 2 Axes>"
      ]
     },
     "metadata": {},
     "output_type": "display_data"
    },
    {
     "data": {
      "image/png": "[encoded data removed]",
      "text/plain": [
       "<Figure size 360x360 with 1 Axes>"
      ]
     },
     "metadata": {},
     "output_type": "display_data"
    }
   ],
   "source": [
    "import seaborn as sns\n",
    "Seat_Enums = { 'M':1, 'F':2, 'B':3 }\n",
    "fig, axs = plt.subplots(1, 2, tight_layout=True, gridspec_kw = {'width_ratios':[1, 3]})\n",
    "fig.set_figwidth(12)\n",
    "df2 = df[df['GPA'] != '*'].copy(deep=True)\n",
    "df2['GPA'] = df2['GPA'].apply(lambda x: float(x))\n",
    "\n",
    "_ = sns.boxplot(x=\"Seat\", y=\"GPA\", data=df2, ax=axs[1])\n",
    "_ = sns.swarmplot(x=\"Seat\", y=\"GPA\", data=df2, color=\".25\", ax=axs[1])\n",
    "# sns.violinplot(x=\"Seat\", y=\"GPA\", data=df2, inner=None, ax=axs[0])\n",
    "_ = sns.catplot(x=\"Seat\", kind='count', data=df2, ax=axs[0])\n",
    "plt.show()\n",
    "\n"
   ]
  },
  {
   "cell_type": "markdown",
   "metadata": {},
   "source": [
    "**Observation**\n",
    " - Front\n",
    "     - Student seating on front tends to do better among all on an average.\n",
    "     - Also, this set has few students with low (<2.5) GPA.\n",
    " - Medium\n",
    "     - This set showed high variability, ex - this set contains both toppers and bottom most scorer among all set.\n",
    " - Back\n",
    "     - This set has done well in the sense that most of the student has more >3 GPA.\n",
    "     \n",
    "**Inference**\n",
    " - Seating position of student has effect on grades of student. Though this effect is not very much visible, hence it should be trated as weak effect."
   ]
  }
 ],
 "metadata": {
  "kernelspec": {
   "display_name": "Python 3",
   "language": "python",
   "name": "python3"
  },
  "language_info": {
   "codemirror_mode": {
    "name": "ipython",
    "version": 3
   },
   "file_extension": ".py",
   "mimetype": "text/x-python",
   "name": "python",
   "nbconvert_exporter": "python",
   "pygments_lexer": "ipython3",
   "version": "3.6.6"
  },
  "varInspector": {
   "cols": {
    "lenName": 16,
    "lenType": 16,
    "lenVar": 40
   },
   "kernels_config": {
    "python": {
     "delete_cmd_postfix": "",
     "delete_cmd_prefix": "del ",
     "library": "var_list.py",
     "varRefreshCmd": "print(var_dic_list())"
    },
    "r": {
     "delete_cmd_postfix": ") ",
     "delete_cmd_prefix": "rm(",
     "library": "var_list.r",
     "varRefreshCmd": "cat(var_dic_list()) "
    }
   },
   "types_to_exclude": [
    "module",
    "function",
    "builtin_function_or_method",
    "instance",
    "_Feature"
   ],
   "window_display": false
  }
 },
 "nbformat": 4,
 "nbformat_minor": 2
}
