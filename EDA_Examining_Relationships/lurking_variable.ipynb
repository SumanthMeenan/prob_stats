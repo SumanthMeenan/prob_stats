{
 "cells": [
  {
   "cell_type": "code",
   "execution_count": 43,
   "metadata": {
    "ExecuteTime": {
     "end_time": "2018-07-30T20:53:58.081535Z",
     "start_time": "2018-07-30T20:53:56.756594Z"
    }
   },
   "outputs": [
    {
     "name": "stderr",
     "output_type": "stream",
     "text": [
      "/Users/ttn/anaconda/lib/python3.6/site-packages/statsmodels/compat/pandas.py:56: FutureWarning: The pandas.core.datetools module is deprecated and will be removed in a future version. Please use the pandas.tseries module instead.\n",
      "  from pandas.core import datetools\n"
     ]
    }
   ],
   "source": [
    "import pandas as pd\n",
    "import numpy as np\n",
    "import statsmodels.api as sm\n",
    "\n",
    "import matplotlib.pyplot as plt"
   ]
  },
  {
   "cell_type": "markdown",
   "metadata": {},
   "source": [
    "## Idea\n",
    " - `Association` is not `Causation`.\n",
    "     - It is not necessary that explanatory variable always results in production of response variable. Explainatory variable may be associated in the process of production of response variable, but it is not necessary that it has caused the production of response variable.\n",
    "     - So, who else is contributing toward production of response variable. Answer is `lurking variable`. It is something we have not taken into account, but it holds significant importance in production process.\n",
    "     - How does it impact the production process? Answer is, `lurking variable` may have impact on either explainatory variable or/and response variable.\n"
   ]
  },
  {
   "cell_type": "code",
   "execution_count": 42,
   "metadata": {
    "ExecuteTime": {
     "end_time": "2018-07-30T20:53:46.095341Z",
     "start_time": "2018-07-30T20:53:46.049980Z"
    }
   },
   "outputs": [
    {
     "data": {
      "text/html": [
       "<div>\n",
       "<style scoped>\n",
       "    .dataframe tbody tr th:only-of-type {\n",
       "        vertical-align: middle;\n",
       "    }\n",
       "\n",
       "    .dataframe tbody tr th {\n",
       "        vertical-align: top;\n",
       "    }\n",
       "\n",
       "    .dataframe thead th {\n",
       "        text-align: right;\n",
       "    }\n",
       "</style>\n",
       "<table border=\"1\" class=\"dataframe\">\n",
       "  <thead>\n",
       "    <tr style=\"text-align: right;\">\n",
       "      <th></th>\n",
       "      <th>Gender</th>\n",
       "      <th>Height</th>\n",
       "      <th>GPA</th>\n",
       "      <th>HS GPA</th>\n",
       "      <th>Seat</th>\n",
       "      <th>WtFeel</th>\n",
       "      <th>Cheat</th>\n",
       "    </tr>\n",
       "  </thead>\n",
       "  <tbody>\n",
       "    <tr>\n",
       "      <th>0</th>\n",
       "      <td>Female</td>\n",
       "      <td>64.0</td>\n",
       "      <td>2.6</td>\n",
       "      <td>2.63</td>\n",
       "      <td>M</td>\n",
       "      <td>AboutRt</td>\n",
       "      <td>No</td>\n",
       "    </tr>\n",
       "  </tbody>\n",
       "</table>\n",
       "</div>"
      ],
      "text/plain": [
       "   Gender  Height  GPA HS GPA Seat   WtFeel Cheat\n",
       "0  Female    64.0  2.6   2.63    M  AboutRt    No"
      ]
     },
     "execution_count": 42,
     "metadata": {},
     "output_type": "execute_result"
    }
   ],
   "source": [
    "df = pd.read_excel('./body_image.xls')\n",
    "df.head(1)"
   ]
  },
  {
   "cell_type": "code",
   "execution_count": 9,
   "metadata": {
    "ExecuteTime": {
     "end_time": "2018-07-30T19:30:52.108349Z",
     "start_time": "2018-07-30T19:30:52.098820Z"
    }
   },
   "outputs": [
    {
     "data": {
      "text/plain": [
       "Seat\n",
       "B    2\n",
       "F    4\n",
       "M    4\n",
       "dtype: int64"
      ]
     },
     "execution_count": 9,
     "metadata": {},
     "output_type": "execute_result"
    }
   ],
   "source": [
    "first_10 = df.head(10)\n",
    "first_10.groupby('Seat').size()"
   ]
  },
  {
   "cell_type": "code",
   "execution_count": 11,
   "metadata": {
    "ExecuteTime": {
     "end_time": "2018-07-30T19:32:41.704465Z",
     "start_time": "2018-07-30T19:32:41.683473Z"
    }
   },
   "outputs": [
    {
     "data": {
      "text/html": [
       "<div>\n",
       "<style scoped>\n",
       "    .dataframe tbody tr th:only-of-type {\n",
       "        vertical-align: middle;\n",
       "    }\n",
       "\n",
       "    .dataframe tbody tr th {\n",
       "        vertical-align: top;\n",
       "    }\n",
       "\n",
       "    .dataframe thead th {\n",
       "        text-align: right;\n",
       "    }\n",
       "</style>\n",
       "<table border=\"1\" class=\"dataframe\">\n",
       "  <thead>\n",
       "    <tr style=\"text-align: right;\">\n",
       "      <th></th>\n",
       "      <th>Gender</th>\n",
       "      <th>Height</th>\n",
       "      <th>GPA</th>\n",
       "      <th>HS GPA</th>\n",
       "      <th>Seat</th>\n",
       "      <th>WtFeel</th>\n",
       "      <th>Cheat</th>\n",
       "    </tr>\n",
       "  </thead>\n",
       "  <tbody>\n",
       "    <tr>\n",
       "      <th>3</th>\n",
       "      <td>Female</td>\n",
       "      <td>63.0</td>\n",
       "      <td>3.11</td>\n",
       "      <td>2.73</td>\n",
       "      <td>F</td>\n",
       "      <td>AboutRt</td>\n",
       "      <td>No</td>\n",
       "    </tr>\n",
       "    <tr>\n",
       "      <th>4</th>\n",
       "      <td>Male</td>\n",
       "      <td>72.0</td>\n",
       "      <td>3.4</td>\n",
       "      <td>2.35</td>\n",
       "      <td>B</td>\n",
       "      <td>OverWt</td>\n",
       "      <td>No</td>\n",
       "    </tr>\n",
       "    <tr>\n",
       "      <th>8</th>\n",
       "      <td>Male</td>\n",
       "      <td>72.0</td>\n",
       "      <td>3.77</td>\n",
       "      <td>3.09</td>\n",
       "      <td>M</td>\n",
       "      <td>UnderWt</td>\n",
       "      <td>No</td>\n",
       "    </tr>\n",
       "  </tbody>\n",
       "</table>\n",
       "</div>"
      ],
      "text/plain": [
       "   Gender  Height   GPA HS GPA Seat   WtFeel Cheat\n",
       "3  Female    63.0  3.11   2.73    F  AboutRt    No\n",
       "4    Male    72.0   3.4   2.35    B   OverWt    No\n",
       "8    Male    72.0  3.77   3.09    M  UnderWt    No"
      ]
     },
     "execution_count": 11,
     "metadata": {},
     "output_type": "execute_result"
    }
   ],
   "source": [
    "first_10[first_10['GPA'] > first_10['HS GPA']]"
   ]
  },
  {
   "cell_type": "code",
   "execution_count": 14,
   "metadata": {
    "ExecuteTime": {
     "end_time": "2018-07-30T19:36:52.175491Z",
     "start_time": "2018-07-30T19:36:52.156956Z"
    }
   },
   "outputs": [
    {
     "data": {
      "text/html": [
       "<div>\n",
       "<style scoped>\n",
       "    .dataframe tbody tr th:only-of-type {\n",
       "        vertical-align: middle;\n",
       "    }\n",
       "\n",
       "    .dataframe tbody tr th {\n",
       "        vertical-align: top;\n",
       "    }\n",
       "\n",
       "    .dataframe thead th {\n",
       "        text-align: right;\n",
       "    }\n",
       "</style>\n",
       "<table border=\"1\" class=\"dataframe\">\n",
       "  <thead>\n",
       "    <tr style=\"text-align: right;\">\n",
       "      <th></th>\n",
       "      <th>Gender</th>\n",
       "      <th>Height</th>\n",
       "      <th>GPA</th>\n",
       "      <th>HS GPA</th>\n",
       "      <th>Seat</th>\n",
       "      <th>WtFeel</th>\n",
       "      <th>Cheat</th>\n",
       "    </tr>\n",
       "  </thead>\n",
       "  <tbody>\n",
       "    <tr>\n",
       "      <th>8</th>\n",
       "      <td>Male</td>\n",
       "      <td>72.0</td>\n",
       "      <td>3.77</td>\n",
       "      <td>3.09</td>\n",
       "      <td>M</td>\n",
       "      <td>UnderWt</td>\n",
       "      <td>No</td>\n",
       "    </tr>\n",
       "  </tbody>\n",
       "</table>\n",
       "</div>"
      ],
      "text/plain": [
       "  Gender  Height   GPA HS GPA Seat   WtFeel Cheat\n",
       "8   Male    72.0  3.77   3.09    M  UnderWt    No"
      ]
     },
     "execution_count": 14,
     "metadata": {},
     "output_type": "execute_result"
    }
   ],
   "source": [
    "first_10.sort_values('GPA', ascending=False).head(1)"
   ]
  },
  {
   "cell_type": "code",
   "execution_count": 41,
   "metadata": {
    "ExecuteTime": {
     "end_time": "2018-07-30T20:13:04.080211Z",
     "start_time": "2018-07-30T20:13:03.926146Z"
    }
   },
   "outputs": [
    {
     "data": {
      "image/png": "[encoded data removed]",
      "text/plain": [
       "<Figure size 432x288 with 1 Axes>"
      ]
     },
     "metadata": {},
     "output_type": "display_data"
    }
   ],
   "source": [
    "# Q1. Is there a relationship between students' college GPAs and their high school GPAs?\n",
    "valid_gpas = df[(df['GPA'] != '*') & (df['HS GPA'] != '*')]\n",
    "r = np.corrcoef(x_hs_gpa, y_gpa)[0][1]\n",
    "\n",
    "plt.scatter(valid_gpas['HS GPA'], valid_gpas['GPA'], color='red')\n",
    "plt.text(1.5, 4.0, 'r={}'.format(r), fontsize=12)\n",
    "plt.ylabel('GPA')\n",
    "plt.xlabel('HS GPA')\n",
    "plt.show()\n",
    "\n",
    "x_hs_gpa = valid_gpas['HS GPA'].apply(lambda x: float(x))\n",
    "y_gpa = valid_gpas['GPA'].apply(lambda x: float(x))\n"
   ]
  },
  {
   "cell_type": "markdown",
   "metadata": {},
   "source": [
    " - Relationship seems to be postive, linear, strong. Correlation is strong as well.\n",
    " - This suggest HS GPA is related to GPA."
   ]
  },
  {
   "cell_type": "code",
   "execution_count": 48,
   "metadata": {
    "ExecuteTime": {
     "end_time": "2018-07-30T20:56:46.195170Z",
     "start_time": "2018-07-30T20:56:46.186778Z"
    }
   },
   "outputs": [
    {
     "data": {
      "text/plain": [
       "array([2.6, 2.7, 3, 3.11, 3.4, 3.43, 3.7, 3.7, 3.77, 3.5, 3, 3, 3.5, 3.25,\n",
       "       2.83, 2.62, 3.15, 4.2, 3.7, 4.38, 3.65, 3.6, 3, 2.25, 4.03, 2.54,\n",
       "       2.6, 3, 2.93, 3.2, 3, 3.4, 2.5, 3, 3.51, 2.37, 3.5, 3, 2.9, 3.9,\n",
       "       2.65, 3.5, 3.3, 3.4, 3.6, 3.21, 3.1, 3.85, 3.2, 2.5, 2.5, 2.9, 4.2,\n",
       "       2.8, 2.6, 3.05, 3.7, 4, 3.5, 3.22, 2.9, 3.25, 3.26, 3, 2.01, 3.71,\n",
       "       3.87, 3.26, 2.5, 2.9, 3.6, 3.9, 2, 3.2, 3.3, 2.8, 3.8, 3, 2.23,\n",
       "       3.876, 3.01, 2.5, 3, 2.79, 3.8, 3.25, 2.8, 3.39, 2.64, 3.65, 3.4,\n",
       "       3.33, 3.9, 2.54, 2.8, 3.5, 3.1, 2.66, 1.91, 2.8, 2.8, 2.7, 3.8,\n",
       "       3.24, 2.58, 3.17, 2.6, 2.58, 2, 3.44, 2.9, 2.7, 3.5, 3, 2.44, 2,\n",
       "       3.34, 3.83, 1.92, 2.7, 3.9, 2.33, 1.96, 3, 3, 3.4, 2.05, 3.1, 3, 3,\n",
       "       3.25, 3.92, 4, 3, 3.26, 2.8, 2.84, 2.8, 2.87, 2.1, 2.77, 2.95, 3.7,\n",
       "       3.89, 3.5, 3, 3.88, 3, 4, 3.2, 3.2, 3.57, 3, 2.96, 2.5, 2.67, 3,\n",
       "       2.7, 3.8, 2.5, 3.1, 3.5, 3.87, 3.4, 4.1, 3.54, 3.8, 3.21, 3, 2.04,\n",
       "       2.8, 2.4, 2.9, 2.38, 3.83, 2.9, 2.91, 2.9, 2.04, 3.67, 3, 3.3, 3.6,\n",
       "       3.5, 3, 3.7, 3.4, 3.33, 4.06, 3.8, 4, 3, 3, 3, 3.2, 3.4, 3.5, 3.6,\n",
       "       3.43, 3.92, 3, 2.9, 3.2, 3.4, 3.7, 3.4, 3.1, 3, 3.79, 3.9, 2.1, 3,\n",
       "       2.06, 3, 3.81, 2.4, 2.6, 3, 3, 3.9, 2.94, 2.5, 2.5, 2.7, 3.2, 2.67,\n",
       "       2, 2.46], dtype=object)"
      ]
     },
     "execution_count": 48,
     "metadata": {},
     "output_type": "execute_result"
    }
   ],
   "source": [
    "np.array(valid_gpas['HS GPA'])\n",
    "np.array(valid_gpas['GPA'])"
   ]
  },
  {
   "cell_type": "code",
   "execution_count": 54,
   "metadata": {
    "ExecuteTime": {
     "end_time": "2018-07-31T05:18:55.167922Z",
     "start_time": "2018-07-31T05:18:55.132423Z"
    }
   },
   "outputs": [
    {
     "data": {
      "text/html": [
       "<table class=\"simpletable\">\n",
       "<caption>OLS Regression Results</caption>\n",
       "<tr>\n",
       "  <th>Dep. Variable:</th>            <td>y</td>        <th>  R-squared:         </th> <td>   0.512</td>\n",
       "</tr>\n",
       "<tr>\n",
       "  <th>Model:</th>                   <td>OLS</td>       <th>  Adj. R-squared:    </th> <td>   0.510</td>\n",
       "</tr>\n",
       "<tr>\n",
       "  <th>Method:</th>             <td>Least Squares</td>  <th>  F-statistic:       </th> <td>   237.1</td>\n",
       "</tr>\n",
       "<tr>\n",
       "  <th>Date:</th>             <td>Tue, 31 Jul 2018</td> <th>  Prob (F-statistic):</th> <td>4.56e-37</td>\n",
       "</tr>\n",
       "<tr>\n",
       "  <th>Time:</th>                 <td>10:48:55</td>     <th>  Log-Likelihood:    </th> <td> -98.512</td>\n",
       "</tr>\n",
       "<tr>\n",
       "  <th>No. Observations:</th>      <td>   228</td>      <th>  AIC:               </th> <td>   201.0</td>\n",
       "</tr>\n",
       "<tr>\n",
       "  <th>Df Residuals:</th>          <td>   226</td>      <th>  BIC:               </th> <td>   207.9</td>\n",
       "</tr>\n",
       "<tr>\n",
       "  <th>Df Model:</th>              <td>     1</td>      <th>                     </th>     <td> </td>   \n",
       "</tr>\n",
       "<tr>\n",
       "  <th>Covariance Type:</th>      <td>nonrobust</td>    <th>                     </th>     <td> </td>   \n",
       "</tr>\n",
       "</table>\n",
       "<table class=\"simpletable\">\n",
       "<tr>\n",
       "    <td></td>       <th>coef</th>     <th>std err</th>      <th>t</th>      <th>P>|t|</th>  <th>[0.025</th>    <th>0.975]</th>  \n",
       "</tr>\n",
       "<tr>\n",
       "  <th>const</th> <td>    1.0727</td> <td>    0.135</td> <td>    7.935</td> <td> 0.000</td> <td>    0.806</td> <td>    1.339</td>\n",
       "</tr>\n",
       "<tr>\n",
       "  <th>x1</th>    <td>    0.6192</td> <td>    0.040</td> <td>   15.399</td> <td> 0.000</td> <td>    0.540</td> <td>    0.698</td>\n",
       "</tr>\n",
       "</table>\n",
       "<table class=\"simpletable\">\n",
       "<tr>\n",
       "  <th>Omnibus:</th>       <td> 2.794</td> <th>  Durbin-Watson:     </th> <td>   1.869</td>\n",
       "</tr>\n",
       "<tr>\n",
       "  <th>Prob(Omnibus):</th> <td> 0.247</td> <th>  Jarque-Bera (JB):  </th> <td>   2.231</td>\n",
       "</tr>\n",
       "<tr>\n",
       "  <th>Skew:</th>          <td>-0.106</td> <th>  Prob(JB):          </th> <td>   0.328</td>\n",
       "</tr>\n",
       "<tr>\n",
       "  <th>Kurtosis:</th>      <td> 2.565</td> <th>  Cond. No.          </th> <td>    19.9</td>\n",
       "</tr>\n",
       "</table>"
      ],
      "text/plain": [
       "<class 'statsmodels.iolib.summary.Summary'>\n",
       "\"\"\"\n",
       "                            OLS Regression Results                            \n",
       "==============================================================================\n",
       "Dep. Variable:                      y   R-squared:                       0.512\n",
       "Model:                            OLS   Adj. R-squared:                  0.510\n",
       "Method:                 Least Squares   F-statistic:                     237.1\n",
       "Date:                Tue, 31 Jul 2018   Prob (F-statistic):           4.56e-37\n",
       "Time:                        10:48:55   Log-Likelihood:                -98.512\n",
       "No. Observations:                 228   AIC:                             201.0\n",
       "Df Residuals:                     226   BIC:                             207.9\n",
       "Df Model:                           1                                         \n",
       "Covariance Type:            nonrobust                                         \n",
       "==============================================================================\n",
       "                 coef    std err          t      P>|t|      [0.025      0.975]\n",
       "------------------------------------------------------------------------------\n",
       "const          1.0727      0.135      7.935      0.000       0.806       1.339\n",
       "x1             0.6192      0.040     15.399      0.000       0.540       0.698\n",
       "==============================================================================\n",
       "Omnibus:                        2.794   Durbin-Watson:                   1.869\n",
       "Prob(Omnibus):                  0.247   Jarque-Bera (JB):                2.231\n",
       "Skew:                          -0.106   Prob(JB):                        0.328\n",
       "Kurtosis:                       2.565   Cond. No.                         19.9\n",
       "==============================================================================\n",
       "\n",
       "Warnings:\n",
       "[1] Standard Errors assume that the covariance matrix of the errors is correctly specified.\n",
       "\"\"\""
      ]
     },
     "execution_count": 54,
     "metadata": {},
     "output_type": "execute_result"
    }
   ],
   "source": [
    "x = np.array(valid_gpas['HS GPA'], dtype='float')\n",
    "y = np.array(valid_gpas['GPA'], dtype='float')\n",
    "x = sm.add_constant(x)\n",
    "lm = sm.OLS(y, x)\n",
    "res = lm.fit()\n",
    "res.summary()"
   ]
  },
  {
   "cell_type": "code",
   "execution_count": null,
   "metadata": {},
   "outputs": [],
   "source": []
  }
 ],
 "metadata": {
  "kernelspec": {
   "display_name": "Python 3",
   "language": "python",
   "name": "python3"
  },
  "language_info": {
   "codemirror_mode": {
    "name": "ipython",
    "version": 3
   },
   "file_extension": ".py",
   "mimetype": "text/x-python",
   "name": "python",
   "nbconvert_exporter": "python",
   "pygments_lexer": "ipython3",
   "version": "3.6.6"
  },
  "varInspector": {
   "cols": {
    "lenName": 16,
    "lenType": 16,
    "lenVar": 40
   },
   "kernels_config": {
    "python": {
     "delete_cmd_postfix": "",
     "delete_cmd_prefix": "del ",
     "library": "var_list.py",
     "varRefreshCmd": "print(var_dic_list())"
    },
    "r": {
     "delete_cmd_postfix": ") ",
     "delete_cmd_prefix": "rm(",
     "library": "var_list.r",
     "varRefreshCmd": "cat(var_dic_list()) "
    }
   },
   "types_to_exclude": [
    "module",
    "function",
    "builtin_function_or_method",
    "instance",
    "_Feature"
   ],
   "window_display": false
  }
 },
 "nbformat": 4,
 "nbformat_minor": 2
}
