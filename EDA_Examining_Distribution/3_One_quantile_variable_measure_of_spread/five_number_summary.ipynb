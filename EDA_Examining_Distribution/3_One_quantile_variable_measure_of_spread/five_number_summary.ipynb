{
 "cells": [
  {
   "cell_type": "code",
   "execution_count": 2,
   "metadata": {
    "ExecuteTime": {
     "end_time": "2018-07-21T10:31:43.862224Z",
     "start_time": "2018-07-21T10:31:43.857235Z"
    }
   },
   "outputs": [],
   "source": [
    "import pandas as pd\n",
    "import numpy as np\n",
    "import matplotlib.pyplot as plt\n",
    "import seaborn as sns"
   ]
  },
  {
   "cell_type": "code",
   "execution_count": 3,
   "metadata": {
    "ExecuteTime": {
     "end_time": "2018-07-21T10:31:43.944548Z",
     "start_time": "2018-07-21T10:31:43.867774Z"
    }
   },
   "outputs": [
    {
     "data": {
      "text/html": [
       "<div>\n",
       "<style scoped>\n",
       "    .dataframe tbody tr th:only-of-type {\n",
       "        vertical-align: middle;\n",
       "    }\n",
       "\n",
       "    .dataframe tbody tr th {\n",
       "        vertical-align: top;\n",
       "    }\n",
       "\n",
       "    .dataframe thead th {\n",
       "        text-align: right;\n",
       "    }\n",
       "</style>\n",
       "<table border=\"1\" class=\"dataframe\">\n",
       "  <thead>\n",
       "    <tr style=\"text-align: right;\">\n",
       "      <th></th>\n",
       "      <th>Age</th>\n",
       "    </tr>\n",
       "  </thead>\n",
       "  <tbody>\n",
       "    <tr>\n",
       "      <th>count</th>\n",
       "      <td>44.000000</td>\n",
       "    </tr>\n",
       "    <tr>\n",
       "      <th>mean</th>\n",
       "      <td>44.977273</td>\n",
       "    </tr>\n",
       "    <tr>\n",
       "      <th>std</th>\n",
       "      <td>9.749153</td>\n",
       "    </tr>\n",
       "    <tr>\n",
       "      <th>min</th>\n",
       "      <td>29.000000</td>\n",
       "    </tr>\n",
       "    <tr>\n",
       "      <th>25%</th>\n",
       "      <td>38.000000</td>\n",
       "    </tr>\n",
       "    <tr>\n",
       "      <th>50%</th>\n",
       "      <td>43.500000</td>\n",
       "    </tr>\n",
       "    <tr>\n",
       "      <th>75%</th>\n",
       "      <td>50.250000</td>\n",
       "    </tr>\n",
       "    <tr>\n",
       "      <th>max</th>\n",
       "      <td>76.000000</td>\n",
       "    </tr>\n",
       "  </tbody>\n",
       "</table>\n",
       "</div>"
      ],
      "text/plain": [
       "             Age\n",
       "count  44.000000\n",
       "mean   44.977273\n",
       "std     9.749153\n",
       "min    29.000000\n",
       "25%    38.000000\n",
       "50%    43.500000\n",
       "75%    50.250000\n",
       "max    76.000000"
      ]
     },
     "execution_count": 3,
     "metadata": {},
     "output_type": "execute_result"
    }
   ],
   "source": [
    "df = pd.read_excel('./actor_2013.xls')\n",
    "five_num_sum = df.describe()\n",
    "five_num_sum"
   ]
  },
  {
   "cell_type": "code",
   "execution_count": 4,
   "metadata": {
    "ExecuteTime": {
     "end_time": "2018-07-21T10:31:43.961232Z",
     "start_time": "2018-07-21T10:31:43.948527Z"
    }
   },
   "outputs": [
    {
     "name": "stdout",
     "output_type": "stream",
     "text": [
      "50% of data reside in the range of  12.25\n",
      "Total span of data is  47.00\n"
     ]
    }
   ],
   "source": [
    "min_val = five_num_sum.loc['min'].values[0]\n",
    "max_val = five_num_sum.loc['max'].values[0]\n",
    "\n",
    "Q1 = five_num_sum.loc['25%'].values[0]\n",
    "Q3 = five_num_sum.loc['75%'].values[0]\n",
    "\n",
    "span = max_val - min_val\n",
    "IQR = Q3 - Q1\n",
    "print('50%% of data reside in the range of % 1.2f' % (IQR))\n",
    "print('Total span of data is % 2.2f' % span)"
   ]
  },
  {
   "cell_type": "markdown",
   "metadata": {},
   "source": [
    " - Since total data is spreaded over range of 47, however middle 50% data is spreaded over 12.25 range, this gives a hint, that rest 50% may be diverse in nature.\n",
    " - This diversity may have arised due to some extreme value.\n",
    " \n",
    " In next step we will try to figure out any such extreme value."
   ]
  },
  {
   "cell_type": "code",
   "execution_count": 5,
   "metadata": {
    "ExecuteTime": {
     "end_time": "2018-07-21T10:31:43.979994Z",
     "start_time": "2018-07-21T10:31:43.964260Z"
    }
   },
   "outputs": [
    {
     "data": {
      "text/html": [
       "<div>\n",
       "<style scoped>\n",
       "    .dataframe tbody tr th:only-of-type {\n",
       "        vertical-align: middle;\n",
       "    }\n",
       "\n",
       "    .dataframe tbody tr th {\n",
       "        vertical-align: top;\n",
       "    }\n",
       "\n",
       "    .dataframe thead th {\n",
       "        text-align: right;\n",
       "    }\n",
       "</style>\n",
       "<table border=\"1\" class=\"dataframe\">\n",
       "  <thead>\n",
       "    <tr style=\"text-align: right;\">\n",
       "      <th></th>\n",
       "      <th>Age</th>\n",
       "    </tr>\n",
       "  </thead>\n",
       "  <tbody>\n",
       "    <tr>\n",
       "      <th>11</th>\n",
       "      <td>76</td>\n",
       "    </tr>\n",
       "  </tbody>\n",
       "</table>\n",
       "</div>"
      ],
      "text/plain": [
       "    Age\n",
       "11   76"
      ]
     },
     "execution_count": 5,
     "metadata": {},
     "output_type": "execute_result"
    }
   ],
   "source": [
    "extreme_right_threshold = Q3 + (1.5*IQR)\n",
    "extreme_right_values = df[df['Age'] > extreme_right_threshold]\n",
    "extreme_right_values"
   ]
  },
  {
   "cell_type": "code",
   "execution_count": 6,
   "metadata": {
    "ExecuteTime": {
     "end_time": "2018-07-21T10:31:43.994664Z",
     "start_time": "2018-07-21T10:31:43.983767Z"
    }
   },
   "outputs": [
    {
     "data": {
      "text/plain": [
       "19.625"
      ]
     },
     "execution_count": 6,
     "metadata": {},
     "output_type": "execute_result"
    }
   ],
   "source": [
    "extreme_left_threshold = Q1 - 1.5*IQR\n",
    "extreme_left_values = df[df['Age'] < extreme_left_threshold]\n",
    "extreme_left_threshold"
   ]
  },
  {
   "cell_type": "markdown",
   "metadata": {},
   "source": [
    "- An actor winning the oscar at age of 76 seems to be an exception.\n",
    "- However, there seems to be no child (since threshold is 19.625) actor has won the oscar yet, so there is no extreme value on the left.\n",
    "\n",
    "Now, on the basis of what we are trying to infer from data, we may treat actor with age 76 as outlier."
   ]
  },
  {
   "cell_type": "markdown",
   "metadata": {},
   "source": [
    "## Box plot\n",
    " \n",
    " - From the above mentioned five number summary we can plot a boxplot. Boxplot can be used to infer the same thing as we did from five number summary, but in graphical way."
   ]
  },
  {
   "cell_type": "code",
   "execution_count": 7,
   "metadata": {
    "ExecuteTime": {
     "end_time": "2018-07-21T10:31:44.198580Z",
     "start_time": "2018-07-21T10:31:43.998366Z"
    }
   },
   "outputs": [
    {
     "data": {
      "image/png": "[encoded data removed]",
      "text/plain": [
       "<Figure size 432x288 with 1 Axes>"
      ]
     },
     "metadata": {},
     "output_type": "display_data"
    }
   ],
   "source": [
    "# df.boxplot() \n",
    "plt.boxplot(df['Age'], vert=False)\n",
    "plt.grid()\n",
    "plt.show()"
   ]
  },
  {
   "cell_type": "markdown",
   "metadata": {},
   "source": [
    " - Extreme right value is near 76.\n",
    " - Max is someway above 60. Probably 61 or 62.\n",
    " - Median is near 43 or 44.\n",
    " - Q3 is at 50, Q1 is at around 38.\n",
    " - Min is near 29.\n",
    " - There is no extreme left value."
   ]
  },
  {
   "cell_type": "code",
   "execution_count": 8,
   "metadata": {
    "ExecuteTime": {
     "end_time": "2018-07-21T10:31:44.697037Z",
     "start_time": "2018-07-21T10:31:44.201574Z"
    }
   },
   "outputs": [
    {
     "data": {
      "image/png": "[encoded data removed]",
      "text/plain": [
       "<Figure size 1152x432 with 4 Axes>"
      ]
     },
     "metadata": {},
     "output_type": "display_data"
    }
   ],
   "source": [
    "plt.figure(figsize=(16, 6))\n",
    "plt.suptitle('How to interpret different boxes in boxplot')\n",
    "plt.tight_layout()\n",
    "\n",
    "plt.subplot(221)\n",
    "plt.boxplot(np.array([-3,1,3.5,3.5,3,1,2,3,4,5,9]))\n",
    "plt.title('plot1- Median is shifted up')\n",
    "\n",
    "plt.subplot(222)\n",
    "plt.boxplot(np.array([-3,1,1,2,2,2,2,3,4,5,9]))\n",
    "plt.title('plot2- Median is shifted down')\n",
    "\n",
    "plt.subplot(223)\n",
    "plt.boxplot(np.array([-3,1,1.5,1.5,2,1.5,2,2,3.5,5,9]))\n",
    "plt.title('plot3 - box is small')\n",
    "\n",
    "plt.subplot(224)\n",
    "plt.boxplot(np.array([-8,1.4,1.2,0.2,0.12,5.5,5,4.75,4,0.7,12]))\n",
    "plt.title('plot4 - box is big')\n",
    "\n",
    "plt.show()"
   ]
  },
  {
   "cell_type": "markdown",
   "metadata": {},
   "source": [
    "Box contains 50% of the data.\n",
    "- **plot1**: Since line is shifted up, so that means upper region is more dense.\n",
    "- **plot2**: Since line is shifted down, that means lower region is more dense. That is, 25% percent of data reside between Q1 and Median, since Q1 and Median are so closed, that means, these 25% data is very nearby to each other.\n",
    "- **plot3**: Since box itself is too small, that means, 50% of the data sits very near to each other.\n",
    "- **plot4**: Since box width is high, that means data is disperse within the IQR range. This is very IQR is high."
   ]
  },
  {
   "cell_type": "markdown",
   "metadata": {},
   "source": [
    "## Side by Side box plot"
   ]
  },
  {
   "cell_type": "code",
   "execution_count": 13,
   "metadata": {
    "ExecuteTime": {
     "end_time": "2018-07-21T10:35:26.951514Z",
     "start_time": "2018-07-21T10:35:26.923371Z"
    }
   },
   "outputs": [
    {
     "data": {
      "text/html": [
       "<div>\n",
       "<style scoped>\n",
       "    .dataframe tbody tr th:only-of-type {\n",
       "        vertical-align: middle;\n",
       "    }\n",
       "\n",
       "    .dataframe tbody tr th {\n",
       "        vertical-align: top;\n",
       "    }\n",
       "\n",
       "    .dataframe thead th {\n",
       "        text-align: right;\n",
       "    }\n",
       "</style>\n",
       "<table border=\"1\" class=\"dataframe\">\n",
       "  <thead>\n",
       "    <tr style=\"text-align: right;\">\n",
       "      <th></th>\n",
       "      <th>College</th>\n",
       "      <th>%_grad_on_time</th>\n",
       "    </tr>\n",
       "  </thead>\n",
       "  <tbody>\n",
       "    <tr>\n",
       "      <th>0</th>\n",
       "      <td>A</td>\n",
       "      <td>57.6</td>\n",
       "    </tr>\n",
       "    <tr>\n",
       "      <th>1</th>\n",
       "      <td>A</td>\n",
       "      <td>43.2</td>\n",
       "    </tr>\n",
       "  </tbody>\n",
       "</table>\n",
       "</div>"
      ],
      "text/plain": [
       "  College  %_grad_on_time\n",
       "0       A            57.6\n",
       "1       A            43.2"
      ]
     },
     "execution_count": 13,
     "metadata": {},
     "output_type": "execute_result"
    }
   ],
   "source": [
    "Grad = pd.read_excel('./graduation.xls')\n",
    "Grad.head(2)"
   ]
  },
  {
   "cell_type": "code",
   "execution_count": 20,
   "metadata": {
    "ExecuteTime": {
     "end_time": "2018-07-21T10:38:46.390570Z",
     "start_time": "2018-07-21T10:38:46.095964Z"
    }
   },
   "outputs": [
    {
     "name": "stderr",
     "output_type": "stream",
     "text": [
      "/Users/ttn/anaconda/lib/python3.6/site-packages/seaborn/categorical.py:462: FutureWarning: remove_na is deprecated and is a private function. Do not use.\n",
      "  box_data = remove_na(group_data)\n"
     ]
    },
    {
     "data": {
      "image/png": "[encoded data removed]",
      "text/plain": [
       "<Figure size 864x360 with 1 Axes>"
      ]
     },
     "metadata": {},
     "output_type": "display_data"
    }
   ],
   "source": [
    "plt.figure(figsize=(12, 5))\n",
    "ax = sns.boxplot(x=\"College\", y=\"%_grad_on_time\", data=Grad)  # RUN PLOT   \n",
    "plt.show()"
   ]
  },
  {
   "cell_type": "markdown",
   "metadata": {},
   "source": [
    "## Analysis\n",
    " - College A\n",
    "     - Center\n",
    "         - Since center is fairly low as compared to other colleges, that suggest this college consistently fails in matching up the standards.\n",
    "     - Spread\n",
    "         - Since box is too big, that means college's performance has not been consistent.\n",
    " - Similarly for other college\n",
    " \n",
    " - Which college would you choose ?\n",
    "     - College D, as it has low IQR that means it maintains graduation rate and high median signifies that it offers best graduation rate.\n",
    "     \n",
    " - College B or College F ?\n",
    "     - Both offer same/similar graduation rate.\n",
    "     - Since variablity is less in B, so i would choose B. "
   ]
  },
  {
   "cell_type": "markdown",
   "metadata": {},
   "source": [
    " - College D has highest graduation rate. This can be due to\n",
    "     - having too good student in college\n",
    "     - having too low evaluation standard in college.\n",
    " - College A seems to vary a lot.\n",
    " - College B, D, and E has shown consistency in results. That means they maintains the standard."
   ]
  },
  {
   "cell_type": "code",
   "execution_count": null,
   "metadata": {},
   "outputs": [],
   "source": []
  }
 ],
 "metadata": {
  "kernelspec": {
   "display_name": "Python 3",
   "language": "python",
   "name": "python3"
  },
  "language_info": {
   "codemirror_mode": {
    "name": "ipython",
    "version": 3
   },
   "file_extension": ".py",
   "mimetype": "text/x-python",
   "name": "python",
   "nbconvert_exporter": "python",
   "pygments_lexer": "ipython3",
   "version": "3.6.6"
  },
  "varInspector": {
   "cols": {
    "lenName": 16,
    "lenType": 16,
    "lenVar": 40
   },
   "kernels_config": {
    "python": {
     "delete_cmd_postfix": "",
     "delete_cmd_prefix": "del ",
     "library": "var_list.py",
     "varRefreshCmd": "print(var_dic_list())"
    },
    "r": {
     "delete_cmd_postfix": ") ",
     "delete_cmd_prefix": "rm(",
     "library": "var_list.r",
     "varRefreshCmd": "cat(var_dic_list()) "
    }
   },
   "types_to_exclude": [
    "module",
    "function",
    "builtin_function_or_method",
    "instance",
    "_Feature"
   ],
   "window_display": false
  }
 },
 "nbformat": 4,
 "nbformat_minor": 2
}
