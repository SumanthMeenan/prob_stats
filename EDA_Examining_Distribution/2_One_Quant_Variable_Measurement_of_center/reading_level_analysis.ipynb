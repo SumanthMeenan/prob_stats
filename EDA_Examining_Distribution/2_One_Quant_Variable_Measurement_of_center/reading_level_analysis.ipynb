{
 "cells": [
  {
   "cell_type": "code",
   "execution_count": 1,
   "metadata": {
    "ExecuteTime": {
     "end_time": "2018-07-18T11:05:48.391194Z",
     "start_time": "2018-07-18T11:05:46.850326Z"
    }
   },
   "outputs": [],
   "source": [
    "import pandas as pd\n",
    "import numpy as np\n",
    "import matplotlib.pyplot as plt\n",
    "import seaborn as sns"
   ]
  },
  {
   "cell_type": "code",
   "execution_count": 3,
   "metadata": {
    "ExecuteTime": {
     "end_time": "2018-07-18T11:05:54.136242Z",
     "start_time": "2018-07-18T11:05:54.123800Z"
    }
   },
   "outputs": [],
   "source": [
    "Patent_reading_level = pd.DataFrame({\n",
    "    'Pl_readability_level': ['<3', '3', '4', '5', '6', '7', '8', '9', '10', '11', '12', '>12'],\n",
    "    'count': [6,4,4,3,3,2,6,5,4,7,2,17]\n",
    "})\n",
    "Pamphlets_readability_level = pd.DataFrame({\n",
    "    'Pl_readability_level': np.arange(6, 17, 1),\n",
    "    'count': [3,3,8,4,1,1,4,2,1,2,1]\n",
    "})"
   ]
  },
  {
   "cell_type": "code",
   "execution_count": 13,
   "metadata": {
    "ExecuteTime": {
     "end_time": "2018-07-18T11:24:52.007359Z",
     "start_time": "2018-07-18T11:24:51.493403Z"
    }
   },
   "outputs": [
    {
     "data": {
      "image/png": "[encoded data removed]",
      "text/plain": [
       "<Figure size 864x432 with 2 Axes>"
      ]
     },
     "metadata": {},
     "output_type": "display_data"
    }
   ],
   "source": [
    "plt.figure(figsize=(12, 6))\n",
    "\n",
    "plt.subplot(221)\n",
    "plt.bar(Patent_reading_level['Pt_reading_level'], Patent_reading_level['count'])\n",
    "plt.xlabel('Patient readability level')\n",
    "plt.ylabel('Count')\n",
    "plt.grid(True)\n",
    "\n",
    "plt.subplot(222)\n",
    "plt.bar(Pamphlets_readability_level['Pl_readability_level'], Pamphlets_readability_level['count'])\n",
    "plt.xlabel('Pamphlet readability level')\n",
    "plt.ylabel('Count')\n",
    "\n",
    "\n",
    "plt.grid(True)\n",
    "plt.show()"
   ]
  },
  {
   "cell_type": "markdown",
   "metadata": {},
   "source": [
    "## Analysis\n",
    " - Most of the patients has higher level of reading level.\n",
    " - Most of the pamphlets has low level of readability.\n",
    " - There are patients who has less than 6 reading level, such patients are not catered by pamphlet."
   ]
  }
 ],
 "metadata": {
  "kernelspec": {
   "display_name": "Python 3",
   "language": "python",
   "name": "python3"
  },
  "language_info": {
   "codemirror_mode": {
    "name": "ipython",
    "version": 3
   },
   "file_extension": ".py",
   "mimetype": "text/x-python",
   "name": "python",
   "nbconvert_exporter": "python",
   "pygments_lexer": "ipython3",
   "version": "3.6.6"
  },
  "varInspector": {
   "cols": {
    "lenName": 16,
    "lenType": 16,
    "lenVar": 40
   },
   "kernels_config": {
    "python": {
     "delete_cmd_postfix": "",
     "delete_cmd_prefix": "del ",
     "library": "var_list.py",
     "varRefreshCmd": "print(var_dic_list())"
    },
    "r": {
     "delete_cmd_postfix": ") ",
     "delete_cmd_prefix": "rm(",
     "library": "var_list.r",
     "varRefreshCmd": "cat(var_dic_list()) "
    }
   },
   "types_to_exclude": [
    "module",
    "function",
    "builtin_function_or_method",
    "instance",
    "_Feature"
   ],
   "window_display": false
  }
 },
 "nbformat": 4,
 "nbformat_minor": 2
}
