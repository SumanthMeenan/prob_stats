{
 "cells": [
  {
   "cell_type": "code",
   "execution_count": 6,
   "metadata": {
    "ExecuteTime": {
     "end_time": "2018-08-06T17:31:35.980877Z",
     "start_time": "2018-08-06T17:31:35.975708Z"
    }
   },
   "outputs": [],
   "source": [
    "import pandas as pd\n",
    "import numpy as np\n",
    "import matplotlib.pyplot as plt\n",
    "import seaborn as sns"
   ]
  },
  {
   "cell_type": "markdown",
   "metadata": {},
   "source": [
    "# Theory\n",
    " - Sampling strategy has a great effect on our entire analysis scheme. Therefore we want to learn the techniques useful for obtaining the sample such that, analysis done on sample should be applicable on population as well.\n",
    " - In this notebook, we will try to understand that how good/not goof a random sample is. We will try to compare it to the results obtained from population as well."
   ]
  },
  {
   "cell_type": "code",
   "execution_count": 38,
   "metadata": {
    "ExecuteTime": {
     "end_time": "2018-08-06T18:50:20.484479Z",
     "start_time": "2018-08-06T18:50:20.421345Z"
    }
   },
   "outputs": [],
   "source": [
    "Population_Df = pd.read_excel('./student_survey.xls')\n",
    "Random_Sample_Df = Population_Df.sample(frac=0.10)\n",
    "Business_Df = Population_Df[Population_Df['Course'] == 'Business']\n",
    "NonRandom_Business_Df = Population_Df[Population_Df['Course'] == 'Business'][::2]\n",
    "\n",
    "def remove_missing_var_Verbal(df):\n",
    "    return df[df['Verbal'] != '*']"
   ]
  },
  {
   "cell_type": "code",
   "execution_count": 42,
   "metadata": {
    "ExecuteTime": {
     "end_time": "2018-08-06T18:50:59.602400Z",
     "start_time": "2018-08-06T18:50:59.584255Z"
    }
   },
   "outputs": [
    {
     "name": "stdout",
     "output_type": "stream",
     "text": [
      "Size of population is (1129, 5)\n",
      "Size of random sample is (113, 5)\n",
      "Size of business sample is (192, 5)\n",
      "Size of non-random business sample is (96, 5)\n"
     ]
    },
    {
     "data": {
      "text/html": [
       "<div>\n",
       "<style scoped>\n",
       "    .dataframe tbody tr th:only-of-type {\n",
       "        vertical-align: middle;\n",
       "    }\n",
       "\n",
       "    .dataframe tbody tr th {\n",
       "        vertical-align: top;\n",
       "    }\n",
       "\n",
       "    .dataframe thead th {\n",
       "        text-align: right;\n",
       "    }\n",
       "</style>\n",
       "<table border=\"1\" class=\"dataframe\">\n",
       "  <thead>\n",
       "    <tr style=\"text-align: right;\">\n",
       "      <th></th>\n",
       "      <th>Course</th>\n",
       "      <th>Handed</th>\n",
       "      <th>Sex</th>\n",
       "      <th>Verbal</th>\n",
       "      <th>Age</th>\n",
       "    </tr>\n",
       "  </thead>\n",
       "  <tbody>\n",
       "    <tr>\n",
       "      <th>866</th>\n",
       "      <td>Social</td>\n",
       "      <td>right</td>\n",
       "      <td>female</td>\n",
       "      <td>600</td>\n",
       "      <td>20.5</td>\n",
       "    </tr>\n",
       "  </tbody>\n",
       "</table>\n",
       "</div>"
      ],
      "text/plain": [
       "      Course Handed     Sex Verbal   Age\n",
       "866   Social  right  female    600  20.5"
      ]
     },
     "execution_count": 42,
     "metadata": {},
     "output_type": "execute_result"
    }
   ],
   "source": [
    "print('Size of population is %s' % (Population_Df.shape, ))\n",
    "print('Size of random sample is %s' % (Random_Sample_Df.shape, ))\n",
    "print('Size of business sample is %s' % (Business_Df.shape, ))\n",
    "print('Size of non-random business sample is %s' % (NonRandom_Business_Df.shape, ))\n",
    "Random_Sample_Df.head(1)"
   ]
  },
  {
   "cell_type": "markdown",
   "metadata": {
    "heading_collapsed": true
   },
   "source": [
    "## Comparing `Handed` variable"
   ]
  },
  {
   "cell_type": "code",
   "execution_count": 45,
   "metadata": {
    "ExecuteTime": {
     "end_time": "2018-08-06T18:52:49.956139Z",
     "start_time": "2018-08-06T18:52:49.687750Z"
    },
    "hidden": true
   },
   "outputs": [
    {
     "data": {
      "image/png": "[encoded data removed]",
      "text/plain": [
       "<Figure size 864x216 with 4 Axes>"
      ]
     },
     "metadata": {},
     "output_type": "display_data"
    }
   ],
   "source": [
    "pop_labels = Population_Df.Handed.value_counts().index\n",
    "pop_values = Population_Df.Handed.value_counts().values\n",
    "\n",
    "smpl_labels = Random_Sample_Df.Handed.value_counts().index\n",
    "smpl_values = Random_Sample_Df.Handed.value_counts().values\n",
    "\n",
    "biz_labels = Business_Df.Handed.value_counts().index\n",
    "biz_values = Business_Df.Handed.value_counts().values\n",
    "\n",
    "nr_biz_labels = NonRandom_Business_Df.Handed.value_counts().index\n",
    "nr_biz_values = NonRandom_Business_Df.Handed.value_counts().values\n",
    "\n",
    "fig, axes = plt.subplots(1, 4)\n",
    "fig.set_figwidth(12)\n",
    "fig.set_figheight(3)\n",
    "\n",
    "patches, texts, pop_autotexts = axes[0].pie(pop_values, labels=pop_labels, autopct='%.0f%%')\n",
    "axes[0].set_title('Population')\n",
    "\n",
    "patches, texts, smpl_autotexts  = axes[1].pie(smpl_values, labels=smpl_labels, autopct='%.0f%%')\n",
    "axes[1].set_title('Random Sample')\n",
    "\n",
    "patches, texts, biz_smpl_autotexts  = axes[2].pie(biz_values, labels=biz_labels, autopct='%.0f%%')\n",
    "axes[2].set_title('Business Sample')\n",
    "\n",
    "patches, texts, nr_biz_smpl_autotexts  = axes[3].pie(nr_biz_values, labels=nr_biz_labels, autopct='%.0f%%')\n",
    "axes[3].set_title('Non Random Business Sample')\n",
    "\n",
    "for t in pop_autotexts: t.set_size('xx-large')\n",
    "for t in smpl_autotexts: t.set_size('xx-large')\n",
    "for t in biz_smpl_autotexts: t.set_size('xx-large')\n",
    "for t in nr_biz_smpl_autotexts: t.set_size('xx-large')\n",
    "\n",
    "plt.show()"
   ]
  },
  {
   "cell_type": "markdown",
   "metadata": {
    "hidden": true
   },
   "source": [
    "- We can see that distribution of `Handed` variable does not vary much (is within the 5% range from population), hence this sampling is good as far as `Handed` variable is concerned.\n",
    "- Business sample seems to be within the range as well.\n",
    "<table>\n",
    "    <tr> \n",
    "        <th> Random Sample </th>\n",
    "        <th> Business </th>\n",
    "        <th> NR Business </th>\n",
    "    </tr>\n",
    "    <tr> \n",
    "        <td> OK </td>\n",
    "        <td> OK </td>\n",
    "        <td> <p style=\"color:red;\"> NOT OK</p> </td>\n",
    "    </tr>\n",
    "</table>"
   ]
  },
  {
   "cell_type": "markdown",
   "metadata": {
    "heading_collapsed": true
   },
   "source": [
    "## Comparing `Sex` variable"
   ]
  },
  {
   "cell_type": "code",
   "execution_count": 47,
   "metadata": {
    "ExecuteTime": {
     "end_time": "2018-08-06T18:55:01.717667Z",
     "start_time": "2018-08-06T18:55:01.505565Z"
    },
    "hidden": true
   },
   "outputs": [
    {
     "data": {
      "image/png": "[encoded data removed]",
      "text/plain": [
       "<Figure size 864x216 with 4 Axes>"
      ]
     },
     "metadata": {},
     "output_type": "display_data"
    }
   ],
   "source": [
    "pop_labels = Population_Df.Sex.value_counts().index\n",
    "pop_values = Population_Df.Sex.value_counts().values\n",
    "\n",
    "smpl_labels = Random_Sample_Df.Sex.value_counts().index\n",
    "smpl_values = Random_Sample_Df.Sex.value_counts().values\n",
    "\n",
    "biz_labels = Business_Df.Sex.value_counts().index\n",
    "biz_values = Business_Df.Sex.value_counts().values\n",
    "\n",
    "nr_biz_labels = NonRandom_Business_Df.Sex.value_counts().index\n",
    "nr_biz_values = NonRandom_Business_Df.Sex.value_counts().values\n",
    "\n",
    "fig, axes = plt.subplots(1, 4)\n",
    "fig.set_figwidth(12)\n",
    "fig.set_figheight(3)\n",
    "\n",
    "patches, texts, pop_autotexts = axes[0].pie(pop_values, labels=pop_labels, autopct='%.0f%%')\n",
    "patches, texts, smpl_autotexts  = axes[1].pie(smpl_values, labels=smpl_labels, autopct='%.0f%%')\n",
    "patches, texts, biz_autotexts  = axes[2].pie(biz_values, labels=biz_labels, autopct='%.0f%%')\n",
    "patches, texts, nr_biz_autotexts  = axes[3].pie(nr_biz_values, labels=nr_biz_labels, autopct='%.0f%%')\n",
    "\n",
    "axes[0].set_title('population')\n",
    "axes[1].set_title('Random sample')\n",
    "axes[2].set_title('Business sample')\n",
    "axes[3].set_title('Non Random Business sample')\n",
    "\n",
    "for t in pop_autotexts: t.set_size('xx-large')\n",
    "for t in smpl_autotexts: t.set_size('xx-large')\n",
    "for t in biz_autotexts: t.set_size('xx-large')\n",
    "for t in nr_biz_autotexts: t.set_size('xx-large')\n",
    "\n",
    "plt.show()"
   ]
  },
  {
   "cell_type": "markdown",
   "metadata": {
    "hidden": true
   },
   "source": [
    "- We are good with `Sex` variable as well. Distribution seems to be fairly similar.\n",
    "- Sample collected from business course, has biased toward male. Hence, it should not be considered as a good sample.\n",
    "\n",
    "<table>\n",
    "    <tr> \n",
    "        <th> Random Sample </th>\n",
    "        <th> Business </th>\n",
    "        <th> NR Business </th>\n",
    "    </tr>\n",
    "    <tr> \n",
    "        <td> OK </td>\n",
    "        <td> <p style=\"color: red;\">NOT OK </p></td>\n",
    "        <td> <p style=\"color: red;\">NOT OK </p></td>\n",
    "    </tr>\n",
    "</table>"
   ]
  },
  {
   "cell_type": "markdown",
   "metadata": {},
   "source": [
    "## Comparing `Verbal` variable"
   ]
  },
  {
   "cell_type": "code",
   "execution_count": 48,
   "metadata": {
    "ExecuteTime": {
     "end_time": "2018-08-06T18:56:08.918004Z",
     "start_time": "2018-08-06T18:56:08.267761Z"
    }
   },
   "outputs": [
    {
     "data": {
      "image/png": "[encoded data removed]",
      "text/plain": [
       "<Figure size 864x288 with 4 Axes>"
      ]
     },
     "metadata": {},
     "output_type": "display_data"
    }
   ],
   "source": [
    "def change_verbal_to_arr(df):\n",
    "    verbal = np.array(df[df['Verbal'] != '*']['Verbal'])\n",
    "    return verbal.reshape(verbal.shape[0], 1)\n",
    "\n",
    "def remove_verbal_outlier_if_any(verbal):\n",
    "    verbal = verbal[verbal>400]\n",
    "    verbal = verbal.reshape(verbal.shape[0], 1)\n",
    "    return verbal;\n",
    "\n",
    "smpl_verbal = change_verbal_to_arr(Random_Sample_Df)\n",
    "pop_verbal = change_verbal_to_arr(Population_Df)\n",
    "biz_verbal = change_verbal_to_arr(Business_Df)\n",
    "nr_biz_verbal = change_verbal_to_arr(NonRandom_Business_Df)\n",
    "\n",
    "num_of_bins = 20;\n",
    "\n",
    "fig, axes = plt.subplots(1, 4)\n",
    "\n",
    "fig.set_figwidth(12)\n",
    "axes[0].hist(smpl_verbal, bins=num_of_bins, rwidth=0.8)\n",
    "axes[0].set_title('Sample with outlier')\n",
    "\n",
    "axes[1].hist(pop_verbal, bins=num_of_bins, rwidth=0.8)\n",
    "axes[1].set_title('Population with outlier')\n",
    "\n",
    "axes[2].hist(biz_verbal, bins=num_of_bins, rwidth=0.8)\n",
    "axes[2].set_title('Business sample')\n",
    "\n",
    "axes[3].hist(nr_biz_verbal, bins=num_of_bins, rwidth=0.8)\n",
    "axes[3].set_title('Non Random Business sample')\n",
    "\n",
    "plt.show()"
   ]
  },
  {
   "cell_type": "markdown",
   "metadata": {},
   "source": [
    " - This view suggests that both sample and population are normally distributed.\n",
    " - The way values are distributed does vary. Ex \n",
    "     - Population seems to have few potential outliers (<350). However, sample may or may not have those values. So we can do following exercise:\n",
    "         - Remove the outlier and repaint the graph.\n",
    "         - Compare the statistics which are not affected by outliers."
   ]
  },
  {
   "cell_type": "code",
   "execution_count": 49,
   "metadata": {
    "ExecuteTime": {
     "end_time": "2018-08-06T18:57:48.069291Z",
     "start_time": "2018-08-06T18:57:47.468023Z"
    }
   },
   "outputs": [
    {
     "data": {
      "image/png": "[encoded data removed]",
      "text/plain": [
       "<Figure size 864x288 with 4 Axes>"
      ]
     },
     "metadata": {},
     "output_type": "display_data"
    }
   ],
   "source": [
    "smpl_verbal = change_verbal_to_arr(Random_Sample_Df)\n",
    "pop_verbal = change_verbal_to_arr(Population_Df)\n",
    "biz_verbal = change_verbal_to_arr(Business_Df)\n",
    "nr_biz_verbal = change_verbal_to_arr(NonRandom_Business_Df)\n",
    "\n",
    "smpl_verbal = remove_verbal_outlier_if_any(smpl_verbal)\n",
    "pop_verbal = remove_verbal_outlier_if_any(pop_verbal)\n",
    "biz_verbal = remove_verbal_outlier_if_any(biz_verbal)\n",
    "nr_biz_verbal = remove_verbal_outlier_if_any(nr_biz_verbal)\n",
    "num_of_bins = 20;\n",
    "\n",
    "fig, axes = plt.subplots(1, 4)\n",
    "\n",
    "fig.set_figwidth(12)\n",
    "axes[0].hist(smpl_verbal, bins=num_of_bins, rwidth=0.8)\n",
    "axes[0].set_title('Sample without outlier')\n",
    "\n",
    "axes[1].hist(pop_verbal, bins=num_of_bins, rwidth=0.8)\n",
    "axes[1].set_title('Population without outlier')\n",
    "\n",
    "axes[2].hist(biz_verbal, bins=num_of_bins, rwidth=0.8)\n",
    "axes[2].set_title('Business sample without outlier')\n",
    "\n",
    "axes[3].hist(nr_biz_verbal, bins=num_of_bins, rwidth=0.8)\n",
    "axes[3].set_title('Non Random Business sample without outlier')\n",
    "\n",
    "plt.show()"
   ]
  },
  {
   "cell_type": "markdown",
   "metadata": {},
   "source": [
    "- Since distribution is `normal`, hence `mean` is appropiate measure of center."
   ]
  },
  {
   "cell_type": "code",
   "execution_count": 50,
   "metadata": {
    "ExecuteTime": {
     "end_time": "2018-08-06T18:58:30.047924Z",
     "start_time": "2018-08-06T18:58:29.657345Z"
    }
   },
   "outputs": [
    {
     "data": {
      "image/png": "[encoded data removed]",
      "text/plain": [
       "<Figure size 864x288 with 4 Axes>"
      ]
     },
     "metadata": {},
     "output_type": "display_data"
    }
   ],
   "source": [
    "smpl_verbal = change_verbal_to_arr(Random_Sample_Df)\n",
    "pop_verbal = change_verbal_to_arr(Population_Df)\n",
    "biz_verbal = change_verbal_to_arr(Business_Df)\n",
    "nr_biz_verbal = change_verbal_to_arr(NonRandom_Business_Df)\n",
    "\n",
    "fig, axes = plt.subplots(1, 4)\n",
    "fig.set_figwidth(12)\n",
    "\n",
    "axes[0].boxplot(smpl_verbal)\n",
    "axes[0].set_title('Sample')\n",
    "\n",
    "axes[1].boxplot(pop_verbal)\n",
    "axes[1].set_title('Population')\n",
    "\n",
    "axes[2].boxplot(biz_verbal)\n",
    "axes[2].set_title('Business sample')\n",
    "\n",
    "axes[3].boxplot(nr_biz_verbal)\n",
    "axes[3].set_title('Non Random Business sample')\n",
    "plt.show()"
   ]
  },
  {
   "cell_type": "markdown",
   "metadata": {
    "ExecuteTime": {
     "end_time": "2018-08-06T05:51:40.718813Z",
     "start_time": "2018-08-06T05:51:40.711627Z"
    }
   },
   "source": [
    "- boxplot seems to be fairly similar, this suggest most of the data is situated in same region.\n",
    "    -  `Q3-Q1` is almost identical.\n",
    "    - span of tail and head are also quite similar, which suggest boundaries are at similar span.\n",
    "- So, box plot suggest the distribution of data without taking outlier into account. In our case, sample seems to be good enough.\n",
    "- Unanswered question\n",
    "    - population has more outliers than sample, how do they affect the distribution overall.\n",
    "    "
   ]
  },
  {
   "cell_type": "code",
   "execution_count": 51,
   "metadata": {
    "ExecuteTime": {
     "end_time": "2018-08-06T18:59:05.735019Z",
     "start_time": "2018-08-06T18:59:05.705243Z"
    }
   },
   "outputs": [
    {
     "data": {
      "text/html": [
       "<div>\n",
       "<style scoped>\n",
       "    .dataframe tbody tr th:only-of-type {\n",
       "        vertical-align: middle;\n",
       "    }\n",
       "\n",
       "    .dataframe tbody tr th {\n",
       "        vertical-align: top;\n",
       "    }\n",
       "\n",
       "    .dataframe thead th {\n",
       "        text-align: right;\n",
       "    }\n",
       "</style>\n",
       "<table border=\"1\" class=\"dataframe\">\n",
       "  <thead>\n",
       "    <tr style=\"text-align: right;\">\n",
       "      <th></th>\n",
       "      <th>sample_verbal</th>\n",
       "      <th>population_verbal</th>\n",
       "      <th>biz_verbal</th>\n",
       "      <th>nr_biz_verbal</th>\n",
       "    </tr>\n",
       "  </thead>\n",
       "  <tbody>\n",
       "    <tr>\n",
       "      <th>count</th>\n",
       "      <td>101.000000</td>\n",
       "      <td>998.000000</td>\n",
       "      <td>171.000000</td>\n",
       "      <td>85.000000</td>\n",
       "    </tr>\n",
       "    <tr>\n",
       "      <th>mean</th>\n",
       "      <td>593.712871</td>\n",
       "      <td>588.780561</td>\n",
       "      <td>574.649123</td>\n",
       "      <td>572.882353</td>\n",
       "    </tr>\n",
       "    <tr>\n",
       "      <th>std</th>\n",
       "      <td>67.218500</td>\n",
       "      <td>76.081470</td>\n",
       "      <td>74.065907</td>\n",
       "      <td>76.704351</td>\n",
       "    </tr>\n",
       "    <tr>\n",
       "      <th>min</th>\n",
       "      <td>390.000000</td>\n",
       "      <td>300.000000</td>\n",
       "      <td>340.000000</td>\n",
       "      <td>340.000000</td>\n",
       "    </tr>\n",
       "    <tr>\n",
       "      <th>25%</th>\n",
       "      <td>560.000000</td>\n",
       "      <td>540.000000</td>\n",
       "      <td>530.000000</td>\n",
       "      <td>530.000000</td>\n",
       "    </tr>\n",
       "    <tr>\n",
       "      <th>50%</th>\n",
       "      <td>600.000000</td>\n",
       "      <td>590.000000</td>\n",
       "      <td>580.000000</td>\n",
       "      <td>580.000000</td>\n",
       "    </tr>\n",
       "    <tr>\n",
       "      <th>75%</th>\n",
       "      <td>640.000000</td>\n",
       "      <td>640.000000</td>\n",
       "      <td>620.000000</td>\n",
       "      <td>630.000000</td>\n",
       "    </tr>\n",
       "    <tr>\n",
       "      <th>max</th>\n",
       "      <td>730.000000</td>\n",
       "      <td>800.000000</td>\n",
       "      <td>760.000000</td>\n",
       "      <td>700.000000</td>\n",
       "    </tr>\n",
       "  </tbody>\n",
       "</table>\n",
       "</div>"
      ],
      "text/plain": [
       "       sample_verbal  population_verbal  biz_verbal  nr_biz_verbal\n",
       "count     101.000000         998.000000  171.000000      85.000000\n",
       "mean      593.712871         588.780561  574.649123     572.882353\n",
       "std        67.218500          76.081470   74.065907      76.704351\n",
       "min       390.000000         300.000000  340.000000     340.000000\n",
       "25%       560.000000         540.000000  530.000000     530.000000\n",
       "50%       600.000000         590.000000  580.000000     580.000000\n",
       "75%       640.000000         640.000000  620.000000     630.000000\n",
       "max       730.000000         800.000000  760.000000     700.000000"
      ]
     },
     "execution_count": 51,
     "metadata": {},
     "output_type": "execute_result"
    }
   ],
   "source": [
    "smpl_verbal_stats = pd.Series(smpl_verbal.reshape(smpl_verbal.shape[0], ), dtype='float').describe()\n",
    "pop_verbal_stats = pd.Series(pop_verbal.reshape(pop_verbal.shape[0], ), dtype='float').describe()\n",
    "biz_verbal_stats = pd.Series(biz_verbal.reshape(biz_verbal.shape[0], ), dtype='float').describe()\n",
    "nr_biz_verbal_stats = pd.Series(nr_biz_verbal.reshape(nr_biz_verbal.shape[0], ), dtype='float').describe()\n",
    "\n",
    "pd.DataFrame({\n",
    "    'sample_verbal': smpl_verbal_stats,\n",
    "    'population_verbal': pop_verbal_stats,\n",
    "    'biz_verbal': biz_verbal_stats,\n",
    "    'nr_biz_verbal': nr_biz_verbal_stats\n",
    "})"
   ]
  },
  {
   "cell_type": "markdown",
   "metadata": {},
   "source": [
    "- Since mean of the sample and population doesn't vary too much. So, it seems to be fair enough.\n",
    "- For business sample as well, means seems to be fair enough. Although, it is not as good as random sample.\n",
    "\n",
    "<table>\n",
    "    <tr> \n",
    "        <th> Random Sample </th>\n",
    "        <th> Business </th>\n",
    "        <th> NR Business </th>\n",
    "    </tr>\n",
    "    <tr> \n",
    "        <td> OK </td>\n",
    "        <td> OK </td>\n",
    "        <td> OK </td>\n",
    "    </tr>\n",
    "</table>"
   ]
  },
  {
   "cell_type": "markdown",
   "metadata": {},
   "source": [
    "## Comparing `Age` variable"
   ]
  },
  {
   "cell_type": "code",
   "execution_count": 52,
   "metadata": {
    "ExecuteTime": {
     "end_time": "2018-08-06T19:00:39.044636Z",
     "start_time": "2018-08-06T19:00:38.645272Z"
    }
   },
   "outputs": [
    {
     "data": {
      "image/png": "[encoded data removed]",
      "text/plain": [
       "<Figure size 864x288 with 4 Axes>"
      ]
     },
     "metadata": {},
     "output_type": "display_data"
    }
   ],
   "source": [
    "def remove_age_missing_val(df):\n",
    "    return df[df['Age'] != '*']\n",
    "\n",
    "\n",
    "smpl_age = remove_age_missing_val(Random_Sample_Df)['Age'].apply(lambda x: float(x))\n",
    "pop_age = remove_age_missing_val(Population_Df)['Age'].apply(lambda x: float(x))\n",
    "biz_age = remove_age_missing_val(Business_Df)['Age'].apply(lambda x: float(x))\n",
    "nr_biz_age = remove_age_missing_val(NonRandom_Business_Df)['Age'].apply(lambda x: float(x))\n",
    "\n",
    "fig, axes = plt.subplots(1, 4)\n",
    "fig.set_figwidth(12)\n",
    "\n",
    "axes[0].boxplot(smpl_age)\n",
    "axes[0].set_title('Sample')\n",
    "axes[0].grid()\n",
    "\n",
    "axes[1].boxplot(pop_age)\n",
    "axes[1].set_title('Population')\n",
    "axes[1].grid()\n",
    "\n",
    "axes[2].boxplot(biz_age)\n",
    "axes[2].set_title('Business sample')\n",
    "axes[2].grid()\n",
    "\n",
    "axes[3].boxplot(nr_biz_age)\n",
    "axes[3].set_title('Non Random Business sample')\n",
    "axes[3].grid()\n",
    "\n",
    "plt.show()"
   ]
  },
  {
   "cell_type": "code",
   "execution_count": 54,
   "metadata": {
    "ExecuteTime": {
     "end_time": "2018-08-06T19:01:36.208740Z",
     "start_time": "2018-08-06T19:01:35.743922Z"
    }
   },
   "outputs": [
    {
     "data": {
      "image/png": "[encoded data removed]",
      "text/plain": [
       "<Figure size 864x288 with 4 Axes>"
      ]
     },
     "metadata": {},
     "output_type": "display_data"
    }
   ],
   "source": [
    "\n",
    "fig, axes = plt.subplots(1, 4)\n",
    "fig.set_figwidth(12)\n",
    "\n",
    "axes[0].hist(smpl_age)\n",
    "axes[0].set_title('Sample')\n",
    "axes[0].grid()\n",
    "\n",
    "axes[1].hist(pop_age)\n",
    "axes[1].set_title('Population')\n",
    "axes[1].grid()\n",
    "\n",
    "axes[2].hist(biz_age)\n",
    "axes[2].set_title('Business sample')\n",
    "axes[2].grid()\n",
    "\n",
    "axes[3].hist(nr_biz_age)\n",
    "axes[3].set_title('Non Random Business sample')\n",
    "axes[3].grid()\n",
    "\n",
    "plt.show()"
   ]
  },
  {
   "cell_type": "code",
   "execution_count": 55,
   "metadata": {
    "ExecuteTime": {
     "end_time": "2018-08-06T19:02:09.669490Z",
     "start_time": "2018-08-06T19:02:09.632647Z"
    }
   },
   "outputs": [
    {
     "data": {
      "text/html": [
       "<div>\n",
       "<style scoped>\n",
       "    .dataframe tbody tr th:only-of-type {\n",
       "        vertical-align: middle;\n",
       "    }\n",
       "\n",
       "    .dataframe tbody tr th {\n",
       "        vertical-align: top;\n",
       "    }\n",
       "\n",
       "    .dataframe thead th {\n",
       "        text-align: right;\n",
       "    }\n",
       "</style>\n",
       "<table border=\"1\" class=\"dataframe\">\n",
       "  <thead>\n",
       "    <tr style=\"text-align: right;\">\n",
       "      <th></th>\n",
       "      <th>Population_Age</th>\n",
       "      <th>Sample_Age</th>\n",
       "      <th>Business_Age</th>\n",
       "      <th>nr_Business_Age</th>\n",
       "    </tr>\n",
       "  </thead>\n",
       "  <tbody>\n",
       "    <tr>\n",
       "      <th>count</th>\n",
       "      <td>1123.000000</td>\n",
       "      <td>113.000000</td>\n",
       "      <td>192.000000</td>\n",
       "      <td>96.000000</td>\n",
       "    </tr>\n",
       "    <tr>\n",
       "      <th>mean</th>\n",
       "      <td>20.374898</td>\n",
       "      <td>20.162655</td>\n",
       "      <td>20.306771</td>\n",
       "      <td>19.600937</td>\n",
       "    </tr>\n",
       "    <tr>\n",
       "      <th>std</th>\n",
       "      <td>3.188835</td>\n",
       "      <td>2.081398</td>\n",
       "      <td>4.785640</td>\n",
       "      <td>1.145336</td>\n",
       "    </tr>\n",
       "    <tr>\n",
       "      <th>min</th>\n",
       "      <td>17.670000</td>\n",
       "      <td>18.250000</td>\n",
       "      <td>17.670000</td>\n",
       "      <td>17.670000</td>\n",
       "    </tr>\n",
       "    <tr>\n",
       "      <th>25%</th>\n",
       "      <td>19.080000</td>\n",
       "      <td>19.000000</td>\n",
       "      <td>18.830000</td>\n",
       "      <td>18.810000</td>\n",
       "    </tr>\n",
       "    <tr>\n",
       "      <th>50%</th>\n",
       "      <td>19.670000</td>\n",
       "      <td>19.580000</td>\n",
       "      <td>19.500000</td>\n",
       "      <td>19.500000</td>\n",
       "    </tr>\n",
       "    <tr>\n",
       "      <th>75%</th>\n",
       "      <td>20.670000</td>\n",
       "      <td>20.580000</td>\n",
       "      <td>20.250000</td>\n",
       "      <td>20.170000</td>\n",
       "    </tr>\n",
       "    <tr>\n",
       "      <th>max</th>\n",
       "      <td>74.170000</td>\n",
       "      <td>34.080000</td>\n",
       "      <td>74.170000</td>\n",
       "      <td>25.000000</td>\n",
       "    </tr>\n",
       "  </tbody>\n",
       "</table>\n",
       "</div>"
      ],
      "text/plain": [
       "       Population_Age  Sample_Age  Business_Age  nr_Business_Age\n",
       "count     1123.000000  113.000000    192.000000        96.000000\n",
       "mean        20.374898   20.162655     20.306771        19.600937\n",
       "std          3.188835    2.081398      4.785640         1.145336\n",
       "min         17.670000   18.250000     17.670000        17.670000\n",
       "25%         19.080000   19.000000     18.830000        18.810000\n",
       "50%         19.670000   19.580000     19.500000        19.500000\n",
       "75%         20.670000   20.580000     20.250000        20.170000\n",
       "max         74.170000   34.080000     74.170000        25.000000"
      ]
     },
     "execution_count": 55,
     "metadata": {},
     "output_type": "execute_result"
    }
   ],
   "source": [
    "pd.DataFrame(\n",
    "    {\n",
    "        'Population_Age': pop_age.describe(),\n",
    "        'Sample_Age': smpl_age.describe(),\n",
    "        'Business_Age': biz_age.describe(),\n",
    "        'nr_Business_Age': nr_biz_age.describe()\n",
    "    })"
   ]
  },
  {
   "cell_type": "markdown",
   "metadata": {},
   "source": [
    "- Population seems to vary a lot, which increases the `std-dev` for population. Rest of the stats looks reasonable.\n",
    "    - `std-dev` is high because distribution is skewed, and for skewed distribution `mean` is not appropriate measure of center. So, `median should be taken into account.`\n",
    "\n",
    "<table>\n",
    "    <tr> \n",
    "        <th> Random Sample </th>\n",
    "        <th> Business </th>\n",
    "        <th> NR Business </th>\n",
    "    </tr>\n",
    "    <tr> \n",
    "        <td> OK </td>\n",
    "        <td> OK </td>\n",
    "        <td> OK </td>\n",
    "    </tr>\n",
    "</table>"
   ]
  },
  {
   "cell_type": "markdown",
   "metadata": {},
   "source": [
    "# Take-aways\n",
    " - If variable is categorical\n",
    "     - Consider pie chart.\n",
    " - If variable is quantitative\n",
    "     - Skewed\n",
    "         - Consider median\n",
    "     - Normal\n",
    "         - Consider mean\n",
    "     "
   ]
  }
 ],
 "metadata": {
  "kernelspec": {
   "display_name": "Python 3",
   "language": "python",
   "name": "python3"
  },
  "language_info": {
   "codemirror_mode": {
    "name": "ipython",
    "version": 3
   },
   "file_extension": ".py",
   "mimetype": "text/x-python",
   "name": "python",
   "nbconvert_exporter": "python",
   "pygments_lexer": "ipython3",
   "version": "3.6.6"
  },
  "varInspector": {
   "cols": {
    "lenName": 16,
    "lenType": 16,
    "lenVar": 40
   },
   "kernels_config": {
    "python": {
     "delete_cmd_postfix": "",
     "delete_cmd_prefix": "del ",
     "library": "var_list.py",
     "varRefreshCmd": "print(var_dic_list())"
    },
    "r": {
     "delete_cmd_postfix": ") ",
     "delete_cmd_prefix": "rm(",
     "library": "var_list.r",
     "varRefreshCmd": "cat(var_dic_list()) "
    }
   },
   "types_to_exclude": [
    "module",
    "function",
    "builtin_function_or_method",
    "instance",
    "_Feature"
   ],
   "window_display": false
  }
 },
 "nbformat": 4,
 "nbformat_minor": 2
}
