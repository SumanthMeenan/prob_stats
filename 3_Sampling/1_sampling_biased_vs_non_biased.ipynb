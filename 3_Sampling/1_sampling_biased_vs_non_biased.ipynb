{
 "cells": [
  {
   "cell_type": "code",
   "execution_count": 1,
   "metadata": {
    "ExecuteTime": {
     "end_time": "2018-08-05T16:34:45.776984Z",
     "start_time": "2018-08-05T16:34:44.117249Z"
    }
   },
   "outputs": [],
   "source": [
    "import pandas as pd\n",
    "import numpy as np\n",
    "import matplotlib.pyplot as plt\n",
    "import seaborn as sns"
   ]
  },
  {
   "cell_type": "markdown",
   "metadata": {},
   "source": [
    "# Theory\n",
    " - Sampling strategy has a great effect on our entire analysis scheme. Therefore we want to learn the techniques useful for obtaining the sample such that, analysis done on sample should be applicable on population as well.\n",
    " - In this notebook, we will try to understand that how good/not goof a random sample is. We will try to compare it to the results obtained from population as well."
   ]
  },
  {
   "cell_type": "code",
   "execution_count": 135,
   "metadata": {
    "ExecuteTime": {
     "end_time": "2018-08-05T18:04:23.114505Z",
     "start_time": "2018-08-05T18:04:23.054540Z"
    }
   },
   "outputs": [],
   "source": [
    "Population_Df = pd.read_excel('./student_survey.xls')\n",
    "Random_Sample_Df = Population_Df.sample(frac=0.10)\n",
    "\n",
    "def remove_missing_var_Verbal(df):\n",
    "    return df[df['Verbal'] != '*']"
   ]
  },
  {
   "cell_type": "code",
   "execution_count": 31,
   "metadata": {
    "ExecuteTime": {
     "end_time": "2018-08-05T17:01:30.775471Z",
     "start_time": "2018-08-05T17:01:30.758464Z"
    }
   },
   "outputs": [
    {
     "name": "stdout",
     "output_type": "stream",
     "text": [
      "Size of population is (1129, 5)\n",
      "Size of sample is (113, 5)\n"
     ]
    },
    {
     "data": {
      "text/html": [
       "<div>\n",
       "<style scoped>\n",
       "    .dataframe tbody tr th:only-of-type {\n",
       "        vertical-align: middle;\n",
       "    }\n",
       "\n",
       "    .dataframe tbody tr th {\n",
       "        vertical-align: top;\n",
       "    }\n",
       "\n",
       "    .dataframe thead th {\n",
       "        text-align: right;\n",
       "    }\n",
       "</style>\n",
       "<table border=\"1\" class=\"dataframe\">\n",
       "  <thead>\n",
       "    <tr style=\"text-align: right;\">\n",
       "      <th></th>\n",
       "      <th>Course</th>\n",
       "      <th>Handed</th>\n",
       "      <th>Sex</th>\n",
       "      <th>Verbal</th>\n",
       "      <th>Age</th>\n",
       "    </tr>\n",
       "  </thead>\n",
       "  <tbody>\n",
       "    <tr>\n",
       "      <th>1051</th>\n",
       "      <td>Business</td>\n",
       "      <td>right</td>\n",
       "      <td>male</td>\n",
       "      <td>620</td>\n",
       "      <td>22</td>\n",
       "    </tr>\n",
       "  </tbody>\n",
       "</table>\n",
       "</div>"
      ],
      "text/plain": [
       "        Course Handed   Sex Verbal Age\n",
       "1051  Business  right  male    620  22"
      ]
     },
     "execution_count": 31,
     "metadata": {},
     "output_type": "execute_result"
    }
   ],
   "source": [
    "print('Size of population is %s' % (Population_Df.shape, ))\n",
    "print('Size of sample is %s' % (Random_Sample_Df.shape, ))\n",
    "Random_Sample_Df.head(1)"
   ]
  },
  {
   "cell_type": "markdown",
   "metadata": {
    "heading_collapsed": true
   },
   "source": [
    "## Comparing `Handed` variable"
   ]
  },
  {
   "cell_type": "code",
   "execution_count": 89,
   "metadata": {
    "ExecuteTime": {
     "end_time": "2018-08-05T17:25:04.052283Z",
     "start_time": "2018-08-05T17:25:03.933017Z"
    },
    "hidden": true
   },
   "outputs": [
    {
     "data": {
      "image/png": "[encoded data removed]",
      "text/plain": [
       "<Figure size 576x288 with 2 Axes>"
      ]
     },
     "metadata": {},
     "output_type": "display_data"
    }
   ],
   "source": [
    "pop_labels = Population_Df.Handed.value_counts().index\n",
    "pop_values = Population_Df.Handed.value_counts().values\n",
    "\n",
    "smpl_labels = Random_Sample_Df.Handed.value_counts().index\n",
    "smpl_values = Random_Sample_Df.Handed.value_counts().values\n",
    "\n",
    "fig, axes = plt.subplots(1, 2)\n",
    "fig.set_figwidth(8)\n",
    "fig.set_figheight(4)\n",
    "\n",
    "patches, texts, pop_autotexts = axes[0].pie(pop_values, labels=pop_labels, autopct='%.0f%%')\n",
    "patches, texts, smpl_autotexts  = axes[1].pie(smpl_values, labels=smpl_labels, autopct='%.0f%%')\n",
    "for t in pop_autotexts: t.set_size('xx-large')\n",
    "for t in smpl_autotexts: t.set_size('xx-large')\n",
    "plt.show()"
   ]
  },
  {
   "cell_type": "markdown",
   "metadata": {
    "hidden": true
   },
   "source": [
    "- We can see that distribution of `Handed` variable does not vary much (is within the 5% range from population), hence this sampling is good as far as `Handed` variable is concerned."
   ]
  },
  {
   "cell_type": "markdown",
   "metadata": {
    "heading_collapsed": true
   },
   "source": [
    "## Comparing `Sex` variable"
   ]
  },
  {
   "cell_type": "code",
   "execution_count": 93,
   "metadata": {
    "ExecuteTime": {
     "end_time": "2018-08-05T17:28:31.399670Z",
     "start_time": "2018-08-05T17:28:31.285971Z"
    },
    "hidden": true
   },
   "outputs": [
    {
     "data": {
      "image/png": "[encoded data removed]",
      "text/plain": [
       "<Figure size 576x288 with 2 Axes>"
      ]
     },
     "metadata": {},
     "output_type": "display_data"
    }
   ],
   "source": [
    "pop_labels = Population_Df.Sex.value_counts().index\n",
    "pop_values = Population_Df.Sex.value_counts().values\n",
    "\n",
    "smpl_labels = Random_Sample_Df.Sex.value_counts().index\n",
    "smpl_values = Random_Sample_Df.Sex.value_counts().values\n",
    "\n",
    "fig, axes = plt.subplots(1, 2)\n",
    "fig.set_figwidth(8)\n",
    "fig.set_figheight(4)\n",
    "\n",
    "patches, texts, pop_autotexts = axes[0].pie(pop_values, labels=pop_labels, autopct='%.0f%%')\n",
    "patches, texts, smpl_autotexts  = axes[1].pie(smpl_values, labels=smpl_labels, autopct='%.0f%%')\n",
    "for t in pop_autotexts: t.set_size('xx-large')\n",
    "for t in smpl_autotexts: t.set_size('xx-large')\n",
    "plt.show()"
   ]
  },
  {
   "cell_type": "markdown",
   "metadata": {
    "hidden": true
   },
   "source": [
    "-  We are good with `Sex` variable as well. Distribution seems to be fairly similar."
   ]
  },
  {
   "cell_type": "markdown",
   "metadata": {
    "heading_collapsed": true
   },
   "source": [
    "## Comparing `Verbal` variable"
   ]
  },
  {
   "cell_type": "code",
   "execution_count": 211,
   "metadata": {
    "ExecuteTime": {
     "end_time": "2018-08-06T05:38:18.959748Z",
     "start_time": "2018-08-06T05:38:18.612418Z"
    },
    "hidden": true
   },
   "outputs": [
    {
     "data": {
      "image/png": "[encoded data removed]",
      "text/plain": [
       "<Figure size 864x288 with 2 Axes>"
      ]
     },
     "metadata": {},
     "output_type": "display_data"
    }
   ],
   "source": [
    "def change_verbal_to_arr(df):\n",
    "    verbal = np.array(df[df['Verbal'] != '*']['Verbal'])\n",
    "    return verbal.reshape(verbal.shape[0], 1)\n",
    "\n",
    "def remove_verbal_outlier_if_any(verbal):\n",
    "    verbal = verbal[verbal>400]\n",
    "    verbal = verbal.reshape(verbal.shape[0], 1)\n",
    "    return verbal;\n",
    "\n",
    "smpl_verbal = change_verbal_to_arr(Random_Sample_Df)\n",
    "pop_verbal = change_verbal_to_arr(Population_Df)\n",
    "num_of_bins = 20;\n",
    "\n",
    "fig, axes = plt.subplots(1, 2)\n",
    "\n",
    "fig.set_figwidth(12)\n",
    "axes[0].hist(smpl_verbal, bins=num_of_bins, rwidth=0.8)\n",
    "axes[0].set_title('Sample with outlier')\n",
    "\n",
    "axes[1].hist(pop_verbal, bins=num_of_bins, rwidth=0.8)\n",
    "axes[1].set_title('Population with outlier')\n",
    "plt.show()"
   ]
  },
  {
   "cell_type": "markdown",
   "metadata": {
    "hidden": true
   },
   "source": [
    " - This view suggests that both sample and population are normally distributed.\n",
    " - The way values are distributed does vary. Ex \n",
    "     - Population seems to have few potential outliers (<350). However, sample may or may not have those values. So we can do following exercise:\n",
    "         - Remove the outlier and repaint the graph.\n",
    "         - Compare the statistics which are not affected by outliers."
   ]
  },
  {
   "cell_type": "code",
   "execution_count": 210,
   "metadata": {
    "ExecuteTime": {
     "end_time": "2018-08-06T05:38:07.323821Z",
     "start_time": "2018-08-06T05:38:06.978179Z"
    },
    "hidden": true
   },
   "outputs": [
    {
     "data": {
      "image/png": "[encoded data removed]",
      "text/plain": [
       "<Figure size 864x288 with 2 Axes>"
      ]
     },
     "metadata": {},
     "output_type": "display_data"
    }
   ],
   "source": [
    "smpl_verbal = change_verbal_to_arr(Random_Sample_Df)\n",
    "pop_verbal = change_verbal_to_arr(Population_Df)\n",
    "\n",
    "smpl_verbal = remove_verbal_outlier_if_any(smpl_verbal)\n",
    "pop_verbal = remove_verbal_outlier_if_any(pop_verbal)\n",
    "num_of_bins = 20;\n",
    "\n",
    "fig, axes = plt.subplots(1, 2)\n",
    "\n",
    "fig.set_figwidth(12)\n",
    "axes[0].hist(smpl_verbal, bins=num_of_bins, rwidth=0.8)\n",
    "axes[0].set_title('Sample without outlier')\n",
    "\n",
    "axes[1].hist(pop_verbal, bins=num_of_bins, rwidth=0.8)\n",
    "axes[1].set_title('Population without outlier')\n",
    "plt.show()"
   ]
  },
  {
   "cell_type": "code",
   "execution_count": null,
   "metadata": {
    "hidden": true
   },
   "outputs": [],
   "source": []
  },
  {
   "cell_type": "code",
   "execution_count": 213,
   "metadata": {
    "ExecuteTime": {
     "end_time": "2018-08-06T05:48:42.447890Z",
     "start_time": "2018-08-06T05:48:42.243315Z"
    },
    "hidden": true
   },
   "outputs": [
    {
     "data": {
      "image/png": "[encoded data removed]",
      "text/plain": [
       "<Figure size 864x288 with 2 Axes>"
      ]
     },
     "metadata": {},
     "output_type": "display_data"
    }
   ],
   "source": [
    "smpl_verbal = change_verbal_to_arr(Random_Sample_Df)\n",
    "pop_verbal = change_verbal_to_arr(Population_Df)\n",
    "\n",
    "fig, axes = plt.subplots(1, 2)\n",
    "fig.set_figwidth(12)\n",
    "\n",
    "axes[0].boxplot(smpl_verbal)\n",
    "axes[0].set_title('Sample')\n",
    "\n",
    "axes[1].boxplot(pop_verbal)\n",
    "axes[1].set_title('Population')\n",
    "plt.show()"
   ]
  },
  {
   "cell_type": "markdown",
   "metadata": {
    "ExecuteTime": {
     "end_time": "2018-08-06T05:51:40.718813Z",
     "start_time": "2018-08-06T05:51:40.711627Z"
    },
    "hidden": true
   },
   "source": [
    "- boxplot seems to be fairly similar, this suggest most of the data is situated in same region.\n",
    "    -  `Q3-Q1` is almost identical.\n",
    "    - span of tail and head are also quite similar, which suggest boundaries are at similar span.\n",
    "- So, box plot suggest the distribution of data without taking outlier into account. In our case, sample seems to be good enough.\n",
    "- Unanswered question\n",
    "    - population has more outliers than sample, how do they affect the distribution overall.\n",
    "    "
   ]
  },
  {
   "cell_type": "code",
   "execution_count": 207,
   "metadata": {
    "ExecuteTime": {
     "end_time": "2018-08-06T05:26:45.054715Z",
     "start_time": "2018-08-06T05:26:45.032884Z"
    },
    "hidden": true
   },
   "outputs": [
    {
     "data": {
      "text/html": [
       "<div>\n",
       "<style scoped>\n",
       "    .dataframe tbody tr th:only-of-type {\n",
       "        vertical-align: middle;\n",
       "    }\n",
       "\n",
       "    .dataframe tbody tr th {\n",
       "        vertical-align: top;\n",
       "    }\n",
       "\n",
       "    .dataframe thead th {\n",
       "        text-align: right;\n",
       "    }\n",
       "</style>\n",
       "<table border=\"1\" class=\"dataframe\">\n",
       "  <thead>\n",
       "    <tr style=\"text-align: right;\">\n",
       "      <th></th>\n",
       "      <th>sample_verbal</th>\n",
       "      <th>population_verbal</th>\n",
       "    </tr>\n",
       "  </thead>\n",
       "  <tbody>\n",
       "    <tr>\n",
       "      <th>count</th>\n",
       "      <td>101.000000</td>\n",
       "      <td>998.000000</td>\n",
       "    </tr>\n",
       "    <tr>\n",
       "      <th>mean</th>\n",
       "      <td>592.574257</td>\n",
       "      <td>588.780561</td>\n",
       "    </tr>\n",
       "    <tr>\n",
       "      <th>std</th>\n",
       "      <td>82.784702</td>\n",
       "      <td>76.081470</td>\n",
       "    </tr>\n",
       "    <tr>\n",
       "      <th>min</th>\n",
       "      <td>300.000000</td>\n",
       "      <td>300.000000</td>\n",
       "    </tr>\n",
       "    <tr>\n",
       "      <th>25%</th>\n",
       "      <td>540.000000</td>\n",
       "      <td>540.000000</td>\n",
       "    </tr>\n",
       "    <tr>\n",
       "      <th>50%</th>\n",
       "      <td>600.000000</td>\n",
       "      <td>590.000000</td>\n",
       "    </tr>\n",
       "    <tr>\n",
       "      <th>75%</th>\n",
       "      <td>640.000000</td>\n",
       "      <td>640.000000</td>\n",
       "    </tr>\n",
       "    <tr>\n",
       "      <th>max</th>\n",
       "      <td>800.000000</td>\n",
       "      <td>800.000000</td>\n",
       "    </tr>\n",
       "  </tbody>\n",
       "</table>\n",
       "</div>"
      ],
      "text/plain": [
       "       sample_verbal  population_verbal\n",
       "count     101.000000         998.000000\n",
       "mean      592.574257         588.780561\n",
       "std        82.784702          76.081470\n",
       "min       300.000000         300.000000\n",
       "25%       540.000000         540.000000\n",
       "50%       600.000000         590.000000\n",
       "75%       640.000000         640.000000\n",
       "max       800.000000         800.000000"
      ]
     },
     "execution_count": 207,
     "metadata": {},
     "output_type": "execute_result"
    }
   ],
   "source": [
    "smpl_verbal_stats = pd.Series(smpl_verbal.reshape(smpl_verbal.shape[0], ), dtype='float').describe()\n",
    "pop_verbal_stats = pd.Series(pop_verbal.reshape(pop_verbal.shape[0], ), dtype='float').describe()\n",
    "pd.DataFrame({\n",
    "    'sample_verbal': smpl_verbal_stats,\n",
    "    'population_verbal': pop_verbal_stats \n",
    "})"
   ]
  },
  {
   "cell_type": "markdown",
   "metadata": {
    "hidden": true
   },
   "source": [
    "- Since mean of the sample and population doesn't vary too much. So, it seems to be fair enough.\n",
    "\n",
    "`Doubt`\n",
    "    - Should we pull out all the outliers prior to taking sample ? "
   ]
  },
  {
   "cell_type": "markdown",
   "metadata": {},
   "source": [
    "## Comparing `Age` variable"
   ]
  },
  {
   "cell_type": "code",
   "execution_count": 254,
   "metadata": {
    "ExecuteTime": {
     "end_time": "2018-08-06T06:52:12.592443Z",
     "start_time": "2018-08-06T06:52:12.359065Z"
    }
   },
   "outputs": [
    {
     "data": {
      "image/png": "[encoded data removed]",
      "text/plain": [
       "<Figure size 864x288 with 2 Axes>"
      ]
     },
     "metadata": {},
     "output_type": "display_data"
    }
   ],
   "source": [
    "def remove_age_missing_val(df):\n",
    "    return df[df['Age'] != '*']\n",
    "\n",
    "\n",
    "smpl_age = remove_age_missing_val(Random_Sample_Df)['Age'].apply(lambda x: float(x))\n",
    "pop_age = remove_age_missing_val(Population_Df)['Age'].apply(lambda x: float(x))\n",
    "\n",
    "fig, axes = plt.subplots(1, 2)\n",
    "fig.set_figwidth(12)\n",
    "\n",
    "axes[0].boxplot(smpl_age)\n",
    "axes[0].set_title('Sample')\n",
    "axes[0].grid()\n",
    "\n",
    "axes[1].boxplot(pop_age)\n",
    "axes[1].set_title('Population')\n",
    "axes[1].grid()\n",
    "plt.show()\n"
   ]
  },
  {
   "cell_type": "code",
   "execution_count": 255,
   "metadata": {
    "ExecuteTime": {
     "end_time": "2018-08-06T06:52:30.411792Z",
     "start_time": "2018-08-06T06:52:30.392173Z"
    }
   },
   "outputs": [
    {
     "data": {
      "text/html": [
       "<div>\n",
       "<style scoped>\n",
       "    .dataframe tbody tr th:only-of-type {\n",
       "        vertical-align: middle;\n",
       "    }\n",
       "\n",
       "    .dataframe tbody tr th {\n",
       "        vertical-align: top;\n",
       "    }\n",
       "\n",
       "    .dataframe thead th {\n",
       "        text-align: right;\n",
       "    }\n",
       "</style>\n",
       "<table border=\"1\" class=\"dataframe\">\n",
       "  <thead>\n",
       "    <tr style=\"text-align: right;\">\n",
       "      <th></th>\n",
       "      <th>Population_Age</th>\n",
       "      <th>Sample_Age</th>\n",
       "    </tr>\n",
       "  </thead>\n",
       "  <tbody>\n",
       "    <tr>\n",
       "      <th>count</th>\n",
       "      <td>1123.000000</td>\n",
       "      <td>113.000000</td>\n",
       "    </tr>\n",
       "    <tr>\n",
       "      <th>mean</th>\n",
       "      <td>20.374898</td>\n",
       "      <td>19.991062</td>\n",
       "    </tr>\n",
       "    <tr>\n",
       "      <th>std</th>\n",
       "      <td>3.188835</td>\n",
       "      <td>1.442229</td>\n",
       "    </tr>\n",
       "    <tr>\n",
       "      <th>min</th>\n",
       "      <td>17.670000</td>\n",
       "      <td>17.920000</td>\n",
       "    </tr>\n",
       "    <tr>\n",
       "      <th>25%</th>\n",
       "      <td>19.080000</td>\n",
       "      <td>19.170000</td>\n",
       "    </tr>\n",
       "    <tr>\n",
       "      <th>50%</th>\n",
       "      <td>19.670000</td>\n",
       "      <td>19.670000</td>\n",
       "    </tr>\n",
       "    <tr>\n",
       "      <th>75%</th>\n",
       "      <td>20.670000</td>\n",
       "      <td>20.500000</td>\n",
       "    </tr>\n",
       "    <tr>\n",
       "      <th>max</th>\n",
       "      <td>74.170000</td>\n",
       "      <td>25.750000</td>\n",
       "    </tr>\n",
       "  </tbody>\n",
       "</table>\n",
       "</div>"
      ],
      "text/plain": [
       "       Population_Age  Sample_Age\n",
       "count     1123.000000  113.000000\n",
       "mean        20.374898   19.991062\n",
       "std          3.188835    1.442229\n",
       "min         17.670000   17.920000\n",
       "25%         19.080000   19.170000\n",
       "50%         19.670000   19.670000\n",
       "75%         20.670000   20.500000\n",
       "max         74.170000   25.750000"
      ]
     },
     "execution_count": 255,
     "metadata": {},
     "output_type": "execute_result"
    }
   ],
   "source": [
    "pd.DataFrame(\n",
    "    {\n",
    "        'Population_Age': pop_age.describe(),\n",
    "        'Sample_Age': smpl_age.describe()\n",
    "    })"
   ]
  },
  {
   "cell_type": "markdown",
   "metadata": {},
   "source": [
    "- Population seems to vary a lot, which increases the `std-dev` for population. Rest of the stats looks reasonable.\n",
    "    \n",
    "**Question** What can be done now in order to fix this issue ?\n",
    " - Draw another sample.\n",
    " - Remove outlier from population itself."
   ]
  }
 ],
 "metadata": {
  "kernelspec": {
   "display_name": "Python 3",
   "language": "python",
   "name": "python3"
  },
  "language_info": {
   "codemirror_mode": {
    "name": "ipython",
    "version": 3
   },
   "file_extension": ".py",
   "mimetype": "text/x-python",
   "name": "python",
   "nbconvert_exporter": "python",
   "pygments_lexer": "ipython3",
   "version": "3.6.6"
  },
  "varInspector": {
   "cols": {
    "lenName": 16,
    "lenType": 16,
    "lenVar": 40
   },
   "kernels_config": {
    "python": {
     "delete_cmd_postfix": "",
     "delete_cmd_prefix": "del ",
     "library": "var_list.py",
     "varRefreshCmd": "print(var_dic_list())"
    },
    "r": {
     "delete_cmd_postfix": ") ",
     "delete_cmd_prefix": "rm(",
     "library": "var_list.r",
     "varRefreshCmd": "cat(var_dic_list()) "
    }
   },
   "types_to_exclude": [
    "module",
    "function",
    "builtin_function_or_method",
    "instance",
    "_Feature"
   ],
   "window_display": false
  }
 },
 "nbformat": 4,
 "nbformat_minor": 2
}
