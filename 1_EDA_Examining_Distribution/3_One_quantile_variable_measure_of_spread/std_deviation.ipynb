{
 "cells": [
  {
   "cell_type": "code",
   "execution_count": 85,
   "metadata": {
    "ExecuteTime": {
     "end_time": "2018-07-25T04:51:33.404330Z",
     "start_time": "2018-07-25T04:51:32.057595Z"
    }
   },
   "outputs": [],
   "source": [
    "import pandas as pd\n",
    "import numpy as np\n",
    "\n",
    "import matplotlib.pyplot as plt\n",
    "import seaborn as sns"
   ]
  },
  {
   "cell_type": "markdown",
   "metadata": {},
   "source": [
    " - finding standard deviation of data "
   ]
  },
  {
   "cell_type": "code",
   "execution_count": 5,
   "metadata": {
    "ExecuteTime": {
     "end_time": "2018-07-25T02:53:09.532910Z",
     "start_time": "2018-07-25T02:53:09.503485Z"
    }
   },
   "outputs": [
    {
     "data": {
      "text/plain": [
       "Class I      1.568929\n",
       "Class II     4.000000\n",
       "Class III    2.631174\n",
       "dtype: float64"
      ]
     },
     "execution_count": 5,
     "metadata": {},
     "output_type": "execute_result"
    }
   ],
   "source": [
    "X = pd.read_excel('./sdintuition.xls')\n",
    "X.std()"
   ]
  },
  {
   "cell_type": "markdown",
   "metadata": {
    "ExecuteTime": {
     "end_time": "2018-07-25T02:15:05.772066Z",
     "start_time": "2018-07-25T02:15:05.761964Z"
    }
   },
   "source": [
    " - Understanding **Drinking Habits and Integrity of College Students**\n",
    " - Procedure of analysis is usually as follows:\n",
    "     - Understanding of problem statement\n",
    "     - Understanding of how data was collected.\n",
    "     - Answering few basic (ad-hoc) questions to get hold on data.\n",
    "     - Start toward solving problem"
   ]
  },
  {
   "cell_type": "code",
   "execution_count": 6,
   "metadata": {
    "ExecuteTime": {
     "end_time": "2018-07-25T02:53:32.373836Z",
     "start_time": "2018-07-25T02:53:32.334290Z"
    }
   },
   "outputs": [
    {
     "data": {
      "text/html": [
       "<div>\n",
       "<style scoped>\n",
       "    .dataframe tbody tr th:only-of-type {\n",
       "        vertical-align: middle;\n",
       "    }\n",
       "\n",
       "    .dataframe tbody tr th {\n",
       "        vertical-align: top;\n",
       "    }\n",
       "\n",
       "    .dataframe thead th {\n",
       "        text-align: right;\n",
       "    }\n",
       "</style>\n",
       "<table border=\"1\" class=\"dataframe\">\n",
       "  <thead>\n",
       "    <tr style=\"text-align: right;\">\n",
       "      <th></th>\n",
       "      <th>Gender</th>\n",
       "      <th>Alcohol</th>\n",
       "      <th>Height</th>\n",
       "      <th>Cheat</th>\n",
       "    </tr>\n",
       "  </thead>\n",
       "  <tbody>\n",
       "    <tr>\n",
       "      <th>0</th>\n",
       "      <td>Female</td>\n",
       "      <td>15</td>\n",
       "      <td>64.0</td>\n",
       "      <td>0</td>\n",
       "    </tr>\n",
       "  </tbody>\n",
       "</table>\n",
       "</div>"
      ],
      "text/plain": [
       "   Gender Alcohol  Height  Cheat\n",
       "0  Female      15    64.0      0"
      ]
     },
     "execution_count": 6,
     "metadata": {},
     "output_type": "execute_result"
    }
   ],
   "source": [
    "df = pd.read_excel('./drinking.xls');\n",
    "df.head(1)"
   ]
  },
  {
   "cell_type": "markdown",
   "metadata": {},
   "source": [
    " - Understanding problem statement\n",
    "     - **Q1.** What are the drinking habits of students at this university? In particular, what is the typical number of drinks a student has during a week? Do the data suggest that drinking is a problem in this university?\n",
    "\n",
    "     - **Q2.** One of the statistics professors at this university uses the honor system when giving exams. If there were cheating going on during her exams, would the professor be likely to know about it?\n",
    "     \n",
    "     \n",
    " - Understanding of how data was collected.\n",
    "     - A student survey was conducted at a major university. Data were collected from a random sample of 236 undergraduate students, and the information that was collected included physical characteristics (such as height and handedness), study habits, academic performance and attitudes, and social behaviors. In this exercise we will focus on exploring relationships between some of those variables. \n",
    "  \n",
    "  \n",
    " - Answering few basic questions\n",
    "    - **Q1**: Out of the first ten students in the datafile, how many drink 15 or more alcoholic beverages per week?\n",
    "    - **Q2**: Out of the first ten students in the datafile, how many alcoholic beverages per week does the tallest student drink?\n",
    "    - **Q3**: What is the height of the first male in the datafile who would report on cheating?"
   ]
  },
  {
   "cell_type": "code",
   "execution_count": 47,
   "metadata": {
    "ExecuteTime": {
     "end_time": "2018-07-25T03:15:06.876512Z",
     "start_time": "2018-07-25T03:15:06.862502Z"
    }
   },
   "outputs": [
    {
     "data": {
      "text/plain": [
       "5"
      ]
     },
     "execution_count": 47,
     "metadata": {},
     "output_type": "execute_result"
    }
   ],
   "source": [
    "# Q1\n",
    "first_10_students = df.head(10)\n",
    "first_10_students = first_10_students.replace('*', np.nan)\n",
    "# first_10_students[first_10_students['Alcohol'] > 15]\n",
    "ans_q1 = first_10_students[first_10_students['Alcohol'] >= 15].shape[0]\n",
    "ans_q1"
   ]
  },
  {
   "cell_type": "code",
   "execution_count": 45,
   "metadata": {
    "ExecuteTime": {
     "end_time": "2018-07-25T03:13:04.306131Z",
     "start_time": "2018-07-25T03:13:04.297348Z"
    }
   },
   "outputs": [
    {
     "data": {
      "text/plain": [
       "15.0"
      ]
     },
     "execution_count": 45,
     "metadata": {},
     "output_type": "execute_result"
    }
   ],
   "source": [
    "# Q2\n",
    "tallest_student = first_10_students.sort_values(['Height'], ascending=False).iloc[0]\n",
    "tallest_student['Alcohol']"
   ]
  },
  {
   "cell_type": "code",
   "execution_count": 52,
   "metadata": {
    "ExecuteTime": {
     "end_time": "2018-07-25T03:17:35.602285Z",
     "start_time": "2018-07-25T03:17:35.591401Z"
    }
   },
   "outputs": [
    {
     "data": {
      "text/plain": [
       "46    64.0\n",
       "Name: Height, dtype: float64"
      ]
     },
     "execution_count": 52,
     "metadata": {},
     "output_type": "execute_result"
    }
   ],
   "source": [
    "# Q3\n",
    "first_male_to_report_cheating = df[(df['Gender'] == 'Male') & (df['Cheat'] == 1)].head(1)\n",
    "height_of_first_male_to_report_cheating = first_male_to_report_cheating['Height']\n",
    "height_of_first_male_to_report_cheating"
   ]
  },
  {
   "cell_type": "code",
   "execution_count": 127,
   "metadata": {
    "ExecuteTime": {
     "end_time": "2018-07-25T06:32:31.678613Z",
     "start_time": "2018-07-25T06:32:31.476618Z"
    }
   },
   "outputs": [
    {
     "data": {
      "image/png": "[encoded data removed]",
      "text/plain": [
       "<Figure size 432x288 with 1 Axes>"
      ]
     },
     "metadata": {},
     "output_type": "display_data"
    }
   ],
   "source": [
    "# What are the drinking habits of students at this university? \n",
    "# In particular, what is the typical number of drinks a student has during a week? \n",
    "# Do the data suggest that drinking is a problem in this university?\n",
    "valid_observation = df['Alcohol'].replace('*', np.nan)\n",
    "alcohol_without_missing = df[np.logical_not(np.isnan(valid_observation))]\n",
    "plt.hist(list(alcohol_without_missing['Alcohol']), bins=np.max(alcohol_without_missing['Alcohol']), rwidth=0.8)\n",
    "plt.xlabel('Number of drinks')\n",
    "plt.ylabel('Frequency')\n",
    "plt.show()"
   ]
  },
  {
   "cell_type": "code",
   "execution_count": 124,
   "metadata": {
    "ExecuteTime": {
     "end_time": "2018-07-25T05:10:25.340254Z",
     "start_time": "2018-07-25T05:10:25.327631Z"
    }
   },
   "outputs": [
    {
     "data": {
      "text/plain": [
       "count    206.000000\n",
       "mean       4.538835\n",
       "std        6.915938\n",
       "min        0.000000\n",
       "25%        0.000000\n",
       "50%        1.000000\n",
       "75%        7.000000\n",
       "max       36.000000\n",
       "Name: Alcohol, dtype: float64"
      ]
     },
     "execution_count": 124,
     "metadata": {},
     "output_type": "execute_result"
    }
   ],
   "source": [
    "alcohol_without_missing['Alcohol'].astype(int).describe()"
   ]
  },
  {
   "cell_type": "markdown",
   "metadata": {},
   "source": [
    "### Theory 1\n",
    " - What are the drinking habits of students at this university? \n",
    "    - Most of the students are light drinker. However, few are exception with abnormally high consumption. So, I consider the university student doesn't drink much.\n",
    " - In particular, what is the typical number of drinks a student has during a week? \n",
    "    - A typical student consumes 4.53 drinks per week.\n",
    " - Do the data suggest that drinking is a problem in this university?\n",
    "    - It looks drinking is not a problem as majority of student drink less. Only few are exception which may cause problem.\n",
    "\n",
    "### Theory 2\n",
    " - Most of the student drink 1 or less. But 25% student drink >7 drinks per week which is concern."
   ]
  },
  {
   "cell_type": "code",
   "execution_count": 153,
   "metadata": {
    "ExecuteTime": {
     "end_time": "2018-07-25T08:41:08.687163Z",
     "start_time": "2018-07-25T08:41:08.589721Z"
    }
   },
   "outputs": [
    {
     "name": "stdout",
     "output_type": "stream",
     "text": [
      "[216, 20]\n"
     ]
    },
    {
     "data": {
      "image/png": "[encoded data removed]",
      "text/plain": [
       "<Figure size 432x288 with 1 Axes>"
      ]
     },
     "metadata": {},
     "output_type": "display_data"
    }
   ],
   "source": [
    "# One of the statistics professors at this university uses the honor system when giving exams. \n",
    "# If there were cheating going on during her exams, would the professor be likely to know about it?\n",
    "report_cheat = df[df['Cheat'] == 1].shape[0]\n",
    "dont_report = df.shape[0] - report_cheat\n",
    "labels = ['dont report', 'report']\n",
    "x = [dont_report, report_cheat]\n",
    "print(x)\n",
    "plt.pie(x, labels=labels, shadow=True, autopct='%3f%%', startangle=90)\n",
    "plt.show()"
   ]
  },
  {
   "cell_type": "markdown",
   "metadata": {
    "ExecuteTime": {
     "end_time": "2018-07-25T08:44:50.710234Z",
     "start_time": "2018-07-25T08:44:50.698875Z"
    }
   },
   "source": [
    " - Since most of the student opt \"not to report cheating\". So, introducing honor code may help in reducing the cheating instances.\n",
    " This might enable students to promote to report the cheating as well."
   ]
  },
  {
   "cell_type": "code",
   "execution_count": null,
   "metadata": {},
   "outputs": [],
   "source": []
  }
 ],
 "metadata": {
  "kernelspec": {
   "display_name": "Python 3",
   "language": "python",
   "name": "python3"
  },
  "language_info": {
   "codemirror_mode": {
    "name": "ipython",
    "version": 3
   },
   "file_extension": ".py",
   "mimetype": "text/x-python",
   "name": "python",
   "nbconvert_exporter": "python",
   "pygments_lexer": "ipython3",
   "version": "3.6.6"
  },
  "varInspector": {
   "cols": {
    "lenName": 16,
    "lenType": 16,
    "lenVar": 40
   },
   "kernels_config": {
    "python": {
     "delete_cmd_postfix": "",
     "delete_cmd_prefix": "del ",
     "library": "var_list.py",
     "varRefreshCmd": "print(var_dic_list())"
    },
    "r": {
     "delete_cmd_postfix": ") ",
     "delete_cmd_prefix": "rm(",
     "library": "var_list.r",
     "varRefreshCmd": "cat(var_dic_list()) "
    }
   },
   "types_to_exclude": [
    "module",
    "function",
    "builtin_function_or_method",
    "instance",
    "_Feature"
   ],
   "window_display": false
  }
 },
 "nbformat": 4,
 "nbformat_minor": 2
}
